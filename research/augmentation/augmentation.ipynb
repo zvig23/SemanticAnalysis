{
 "metadata": {
  "kernelspec": {
   "language": "python",
   "display_name": "Python 3",
   "name": "python3"
  },
  "language_info": {
   "pygments_lexer": "ipython3",
   "nbconvert_exporter": "python",
   "version": "3.6.4",
   "file_extension": ".py",
   "codemirror_mode": {
    "name": "ipython",
    "version": 3
   },
   "name": "python",
   "mimetype": "text/x-python"
  },
  "kaggle": {
   "accelerator": "none",
   "dataSources": [
    {
     "sourceId": 16295,
     "databundleVersionId": 1099992,
     "sourceType": "competition"
    },
    {
     "sourceId": 1034812,
     "sourceType": "datasetVersion",
     "datasetId": 570327
    },
    {
     "sourceId": 1046215,
     "sourceType": "datasetVersion",
     "datasetId": 570053
    }
   ],
   "dockerImageVersionId": 29860,
   "isInternetEnabled": false,
   "language": "python",
   "sourceType": "notebook",
   "isGpuEnabled": false
  }
 },
 "nbformat_minor": 4,
 "nbformat": 4,
 "cells": [
  {
   "cell_type": "markdown",
   "source": "# Importing Necesseties",
   "metadata": {}
  },
  {
   "metadata": {
    "ExecuteTime": {
     "end_time": "2025-09-09T19:59:30.849691Z",
     "start_time": "2025-09-09T19:59:27.960254Z"
    }
   },
   "cell_type": "code",
   "source": "!pip install -r ../resources/requirements.txt\n",
   "outputs": [
    {
     "name": "stdout",
     "output_type": "stream",
     "text": [
      "Requirement already satisfied: numpy in c:\\users\\dvirl\\pycharmprojects\\semanticanalysis\\.venv\\lib\\site-packages (from -r ../resources/requirements.txt (line 1)) (2.3.2)\n",
      "Requirement already satisfied: pandas in c:\\users\\dvirl\\pycharmprojects\\semanticanalysis\\.venv\\lib\\site-packages (from -r ../resources/requirements.txt (line 2)) (2.3.1)\n",
      "Requirement already satisfied: matplotlib in c:\\users\\dvirl\\pycharmprojects\\semanticanalysis\\.venv\\lib\\site-packages (from -r ../resources/requirements.txt (line 3)) (3.10.5)\n",
      "Requirement already satisfied: seaborn in c:\\users\\dvirl\\pycharmprojects\\semanticanalysis\\.venv\\lib\\site-packages (from -r ../resources/requirements.txt (line 4)) (0.13.2)\n",
      "Requirement already satisfied: plotly in c:\\users\\dvirl\\pycharmprojects\\semanticanalysis\\.venv\\lib\\site-packages (from -r ../resources/requirements.txt (line 5)) (6.2.0)\n",
      "Requirement already satisfied: Pillow in c:\\users\\dvirl\\pycharmprojects\\semanticanalysis\\.venv\\lib\\site-packages (from -r ../resources/requirements.txt (line 6)) (11.3.0)\n",
      "Requirement already satisfied: wordcloud in c:\\users\\dvirl\\pycharmprojects\\semanticanalysis\\.venv\\lib\\site-packages (from -r ../resources/requirements.txt (line 7)) (1.9.4)\n",
      "Requirement already satisfied: nltk in c:\\users\\dvirl\\pycharmprojects\\semanticanalysis\\.venv\\lib\\site-packages (from -r ../resources/requirements.txt (line 8)) (3.9.1)\n",
      "Requirement already satisfied: spacy in c:\\users\\dvirl\\pycharmprojects\\semanticanalysis\\.venv\\lib\\site-packages (from -r ../resources/requirements.txt (line 9)) (3.8.7)\n",
      "Requirement already satisfied: tqdm in c:\\users\\dvirl\\pycharmprojects\\semanticanalysis\\.venv\\lib\\site-packages (from -r ../resources/requirements.txt (line 10)) (4.67.1)\n",
      "Requirement already satisfied: scipy in c:\\users\\dvirl\\pycharmprojects\\semanticanalysis\\.venv\\lib\\site-packages (from -r ../resources/requirements.txt (line 11)) (1.16.1)\n",
      "Requirement already satisfied: scikit-learn in c:\\users\\dvirl\\pycharmprojects\\semanticanalysis\\.venv\\lib\\site-packages (from -r ../resources/requirements.txt (line 12)) (1.7.1)\n",
      "Requirement already satisfied: xgboost in c:\\users\\dvirl\\pycharmprojects\\semanticanalysis\\.venv\\lib\\site-packages (from -r ../resources/requirements.txt (line 13)) (3.0.4)\n",
      "Requirement already satisfied: torch in c:\\users\\dvirl\\pycharmprojects\\semanticanalysis\\.venv\\lib\\site-packages (from -r ../resources/requirements.txt (line 14)) (2.8.0)\n",
      "Requirement already satisfied: transformers in c:\\users\\dvirl\\pycharmprojects\\semanticanalysis\\.venv\\lib\\site-packages (from -r ../resources/requirements.txt (line 15)) (4.55.0)\n",
      "Requirement already satisfied: python-dateutil>=2.8.2 in c:\\users\\dvirl\\pycharmprojects\\semanticanalysis\\.venv\\lib\\site-packages (from pandas->-r ../resources/requirements.txt (line 2)) (2.9.0.post0)\n",
      "Requirement already satisfied: pytz>=2020.1 in c:\\users\\dvirl\\pycharmprojects\\semanticanalysis\\.venv\\lib\\site-packages (from pandas->-r ../resources/requirements.txt (line 2)) (2025.2)\n",
      "Requirement already satisfied: tzdata>=2022.7 in c:\\users\\dvirl\\pycharmprojects\\semanticanalysis\\.venv\\lib\\site-packages (from pandas->-r ../resources/requirements.txt (line 2)) (2025.2)\n",
      "Requirement already satisfied: contourpy>=1.0.1 in c:\\users\\dvirl\\pycharmprojects\\semanticanalysis\\.venv\\lib\\site-packages (from matplotlib->-r ../resources/requirements.txt (line 3)) (1.3.3)\n",
      "Requirement already satisfied: cycler>=0.10 in c:\\users\\dvirl\\pycharmprojects\\semanticanalysis\\.venv\\lib\\site-packages (from matplotlib->-r ../resources/requirements.txt (line 3)) (0.12.1)\n",
      "Requirement already satisfied: fonttools>=4.22.0 in c:\\users\\dvirl\\pycharmprojects\\semanticanalysis\\.venv\\lib\\site-packages (from matplotlib->-r ../resources/requirements.txt (line 3)) (4.59.0)\n",
      "Requirement already satisfied: kiwisolver>=1.3.1 in c:\\users\\dvirl\\pycharmprojects\\semanticanalysis\\.venv\\lib\\site-packages (from matplotlib->-r ../resources/requirements.txt (line 3)) (1.4.9)\n",
      "Requirement already satisfied: packaging>=20.0 in c:\\users\\dvirl\\pycharmprojects\\semanticanalysis\\.venv\\lib\\site-packages (from matplotlib->-r ../resources/requirements.txt (line 3)) (25.0)\n",
      "Requirement already satisfied: pyparsing>=2.3.1 in c:\\users\\dvirl\\pycharmprojects\\semanticanalysis\\.venv\\lib\\site-packages (from matplotlib->-r ../resources/requirements.txt (line 3)) (3.2.3)\n",
      "Requirement already satisfied: narwhals>=1.15.1 in c:\\users\\dvirl\\pycharmprojects\\semanticanalysis\\.venv\\lib\\site-packages (from plotly->-r ../resources/requirements.txt (line 5)) (2.1.0)\n",
      "Requirement already satisfied: click in c:\\users\\dvirl\\pycharmprojects\\semanticanalysis\\.venv\\lib\\site-packages (from nltk->-r ../resources/requirements.txt (line 8)) (8.2.1)\n",
      "Requirement already satisfied: joblib in c:\\users\\dvirl\\pycharmprojects\\semanticanalysis\\.venv\\lib\\site-packages (from nltk->-r ../resources/requirements.txt (line 8)) (1.5.1)\n",
      "Requirement already satisfied: regex>=2021.8.3 in c:\\users\\dvirl\\pycharmprojects\\semanticanalysis\\.venv\\lib\\site-packages (from nltk->-r ../resources/requirements.txt (line 8)) (2025.7.34)\n",
      "Requirement already satisfied: spacy-legacy<3.1.0,>=3.0.11 in c:\\users\\dvirl\\pycharmprojects\\semanticanalysis\\.venv\\lib\\site-packages (from spacy->-r ../resources/requirements.txt (line 9)) (3.0.12)\n",
      "Requirement already satisfied: spacy-loggers<2.0.0,>=1.0.0 in c:\\users\\dvirl\\pycharmprojects\\semanticanalysis\\.venv\\lib\\site-packages (from spacy->-r ../resources/requirements.txt (line 9)) (1.0.5)\n",
      "Requirement already satisfied: murmurhash<1.1.0,>=0.28.0 in c:\\users\\dvirl\\pycharmprojects\\semanticanalysis\\.venv\\lib\\site-packages (from spacy->-r ../resources/requirements.txt (line 9)) (1.0.13)\n",
      "Requirement already satisfied: cymem<2.1.0,>=2.0.2 in c:\\users\\dvirl\\pycharmprojects\\semanticanalysis\\.venv\\lib\\site-packages (from spacy->-r ../resources/requirements.txt (line 9)) (2.0.11)\n",
      "Requirement already satisfied: preshed<3.1.0,>=3.0.2 in c:\\users\\dvirl\\pycharmprojects\\semanticanalysis\\.venv\\lib\\site-packages (from spacy->-r ../resources/requirements.txt (line 9)) (3.0.10)\n",
      "Requirement already satisfied: thinc<8.4.0,>=8.3.4 in c:\\users\\dvirl\\pycharmprojects\\semanticanalysis\\.venv\\lib\\site-packages (from spacy->-r ../resources/requirements.txt (line 9)) (8.3.6)\n",
      "Requirement already satisfied: wasabi<1.2.0,>=0.9.1 in c:\\users\\dvirl\\pycharmprojects\\semanticanalysis\\.venv\\lib\\site-packages (from spacy->-r ../resources/requirements.txt (line 9)) (1.1.3)\n",
      "Requirement already satisfied: srsly<3.0.0,>=2.4.3 in c:\\users\\dvirl\\pycharmprojects\\semanticanalysis\\.venv\\lib\\site-packages (from spacy->-r ../resources/requirements.txt (line 9)) (2.5.1)\n",
      "Requirement already satisfied: catalogue<2.1.0,>=2.0.6 in c:\\users\\dvirl\\pycharmprojects\\semanticanalysis\\.venv\\lib\\site-packages (from spacy->-r ../resources/requirements.txt (line 9)) (2.0.10)\n",
      "Requirement already satisfied: weasel<0.5.0,>=0.1.0 in c:\\users\\dvirl\\pycharmprojects\\semanticanalysis\\.venv\\lib\\site-packages (from spacy->-r ../resources/requirements.txt (line 9)) (0.4.1)\n",
      "Requirement already satisfied: typer<1.0.0,>=0.3.0 in c:\\users\\dvirl\\pycharmprojects\\semanticanalysis\\.venv\\lib\\site-packages (from spacy->-r ../resources/requirements.txt (line 9)) (0.16.0)\n",
      "Requirement already satisfied: requests<3.0.0,>=2.13.0 in c:\\users\\dvirl\\pycharmprojects\\semanticanalysis\\.venv\\lib\\site-packages (from spacy->-r ../resources/requirements.txt (line 9)) (2.32.4)\n",
      "Requirement already satisfied: pydantic!=1.8,!=1.8.1,<3.0.0,>=1.7.4 in c:\\users\\dvirl\\pycharmprojects\\semanticanalysis\\.venv\\lib\\site-packages (from spacy->-r ../resources/requirements.txt (line 9)) (2.11.7)\n",
      "Requirement already satisfied: jinja2 in c:\\users\\dvirl\\pycharmprojects\\semanticanalysis\\.venv\\lib\\site-packages (from spacy->-r ../resources/requirements.txt (line 9)) (3.1.6)\n",
      "Requirement already satisfied: setuptools in c:\\users\\dvirl\\pycharmprojects\\semanticanalysis\\.venv\\lib\\site-packages (from spacy->-r ../resources/requirements.txt (line 9)) (80.3.1)\n",
      "Requirement already satisfied: langcodes<4.0.0,>=3.2.0 in c:\\users\\dvirl\\pycharmprojects\\semanticanalysis\\.venv\\lib\\site-packages (from spacy->-r ../resources/requirements.txt (line 9)) (3.5.0)\n",
      "Requirement already satisfied: colorama in c:\\users\\dvirl\\pycharmprojects\\semanticanalysis\\.venv\\lib\\site-packages (from tqdm->-r ../resources/requirements.txt (line 10)) (0.4.6)\n",
      "Requirement already satisfied: language-data>=1.2 in c:\\users\\dvirl\\pycharmprojects\\semanticanalysis\\.venv\\lib\\site-packages (from langcodes<4.0.0,>=3.2.0->spacy->-r ../resources/requirements.txt (line 9)) (1.3.0)\n",
      "Requirement already satisfied: annotated-types>=0.6.0 in c:\\users\\dvirl\\pycharmprojects\\semanticanalysis\\.venv\\lib\\site-packages (from pydantic!=1.8,!=1.8.1,<3.0.0,>=1.7.4->spacy->-r ../resources/requirements.txt (line 9)) (0.7.0)\n",
      "Requirement already satisfied: pydantic-core==2.33.2 in c:\\users\\dvirl\\pycharmprojects\\semanticanalysis\\.venv\\lib\\site-packages (from pydantic!=1.8,!=1.8.1,<3.0.0,>=1.7.4->spacy->-r ../resources/requirements.txt (line 9)) (2.33.2)\n",
      "Requirement already satisfied: typing-extensions>=4.12.2 in c:\\users\\dvirl\\pycharmprojects\\semanticanalysis\\.venv\\lib\\site-packages (from pydantic!=1.8,!=1.8.1,<3.0.0,>=1.7.4->spacy->-r ../resources/requirements.txt (line 9)) (4.14.1)\n",
      "Requirement already satisfied: typing-inspection>=0.4.0 in c:\\users\\dvirl\\pycharmprojects\\semanticanalysis\\.venv\\lib\\site-packages (from pydantic!=1.8,!=1.8.1,<3.0.0,>=1.7.4->spacy->-r ../resources/requirements.txt (line 9)) (0.4.1)\n",
      "Requirement already satisfied: charset_normalizer<4,>=2 in c:\\users\\dvirl\\pycharmprojects\\semanticanalysis\\.venv\\lib\\site-packages (from requests<3.0.0,>=2.13.0->spacy->-r ../resources/requirements.txt (line 9)) (3.4.3)\n",
      "Requirement already satisfied: idna<4,>=2.5 in c:\\users\\dvirl\\pycharmprojects\\semanticanalysis\\.venv\\lib\\site-packages (from requests<3.0.0,>=2.13.0->spacy->-r ../resources/requirements.txt (line 9)) (3.10)\n",
      "Requirement already satisfied: urllib3<3,>=1.21.1 in c:\\users\\dvirl\\pycharmprojects\\semanticanalysis\\.venv\\lib\\site-packages (from requests<3.0.0,>=2.13.0->spacy->-r ../resources/requirements.txt (line 9)) (2.5.0)\n",
      "Requirement already satisfied: certifi>=2017.4.17 in c:\\users\\dvirl\\pycharmprojects\\semanticanalysis\\.venv\\lib\\site-packages (from requests<3.0.0,>=2.13.0->spacy->-r ../resources/requirements.txt (line 9)) (2025.8.3)\n",
      "Requirement already satisfied: blis<1.4.0,>=1.3.0 in c:\\users\\dvirl\\pycharmprojects\\semanticanalysis\\.venv\\lib\\site-packages (from thinc<8.4.0,>=8.3.4->spacy->-r ../resources/requirements.txt (line 9)) (1.3.0)\n",
      "Requirement already satisfied: confection<1.0.0,>=0.0.1 in c:\\users\\dvirl\\pycharmprojects\\semanticanalysis\\.venv\\lib\\site-packages (from thinc<8.4.0,>=8.3.4->spacy->-r ../resources/requirements.txt (line 9)) (0.1.5)\n",
      "Requirement already satisfied: shellingham>=1.3.0 in c:\\users\\dvirl\\pycharmprojects\\semanticanalysis\\.venv\\lib\\site-packages (from typer<1.0.0,>=0.3.0->spacy->-r ../resources/requirements.txt (line 9)) (1.5.4)\n",
      "Requirement already satisfied: rich>=10.11.0 in c:\\users\\dvirl\\pycharmprojects\\semanticanalysis\\.venv\\lib\\site-packages (from typer<1.0.0,>=0.3.0->spacy->-r ../resources/requirements.txt (line 9)) (14.1.0)\n",
      "Requirement already satisfied: cloudpathlib<1.0.0,>=0.7.0 in c:\\users\\dvirl\\pycharmprojects\\semanticanalysis\\.venv\\lib\\site-packages (from weasel<0.5.0,>=0.1.0->spacy->-r ../resources/requirements.txt (line 9)) (0.21.1)\n",
      "Requirement already satisfied: smart-open<8.0.0,>=5.2.1 in c:\\users\\dvirl\\pycharmprojects\\semanticanalysis\\.venv\\lib\\site-packages (from weasel<0.5.0,>=0.1.0->spacy->-r ../resources/requirements.txt (line 9)) (7.3.0.post1)\n",
      "Requirement already satisfied: wrapt in c:\\users\\dvirl\\pycharmprojects\\semanticanalysis\\.venv\\lib\\site-packages (from smart-open<8.0.0,>=5.2.1->weasel<0.5.0,>=0.1.0->spacy->-r ../resources/requirements.txt (line 9)) (1.17.2)\n",
      "Requirement already satisfied: threadpoolctl>=3.1.0 in c:\\users\\dvirl\\pycharmprojects\\semanticanalysis\\.venv\\lib\\site-packages (from scikit-learn->-r ../resources/requirements.txt (line 12)) (3.6.0)\n",
      "Requirement already satisfied: filelock in c:\\users\\dvirl\\pycharmprojects\\semanticanalysis\\.venv\\lib\\site-packages (from torch->-r ../resources/requirements.txt (line 14)) (3.18.0)\n",
      "Requirement already satisfied: sympy>=1.13.3 in c:\\users\\dvirl\\pycharmprojects\\semanticanalysis\\.venv\\lib\\site-packages (from torch->-r ../resources/requirements.txt (line 14)) (1.14.0)\n",
      "Requirement already satisfied: networkx in c:\\users\\dvirl\\pycharmprojects\\semanticanalysis\\.venv\\lib\\site-packages (from torch->-r ../resources/requirements.txt (line 14)) (3.5)\n",
      "Requirement already satisfied: fsspec in c:\\users\\dvirl\\pycharmprojects\\semanticanalysis\\.venv\\lib\\site-packages (from torch->-r ../resources/requirements.txt (line 14)) (2025.7.0)\n",
      "Requirement already satisfied: huggingface-hub<1.0,>=0.34.0 in c:\\users\\dvirl\\pycharmprojects\\semanticanalysis\\.venv\\lib\\site-packages (from transformers->-r ../resources/requirements.txt (line 15)) (0.34.4)\n",
      "Requirement already satisfied: pyyaml>=5.1 in c:\\users\\dvirl\\pycharmprojects\\semanticanalysis\\.venv\\lib\\site-packages (from transformers->-r ../resources/requirements.txt (line 15)) (6.0.2)\n",
      "Requirement already satisfied: tokenizers<0.22,>=0.21 in c:\\users\\dvirl\\pycharmprojects\\semanticanalysis\\.venv\\lib\\site-packages (from transformers->-r ../resources/requirements.txt (line 15)) (0.21.4)\n",
      "Requirement already satisfied: safetensors>=0.4.3 in c:\\users\\dvirl\\pycharmprojects\\semanticanalysis\\.venv\\lib\\site-packages (from transformers->-r ../resources/requirements.txt (line 15)) (0.6.2)\n",
      "Requirement already satisfied: marisa-trie>=1.1.0 in c:\\users\\dvirl\\pycharmprojects\\semanticanalysis\\.venv\\lib\\site-packages (from language-data>=1.2->langcodes<4.0.0,>=3.2.0->spacy->-r ../resources/requirements.txt (line 9)) (1.2.1)\n",
      "Requirement already satisfied: six>=1.5 in c:\\users\\dvirl\\pycharmprojects\\semanticanalysis\\.venv\\lib\\site-packages (from python-dateutil>=2.8.2->pandas->-r ../resources/requirements.txt (line 2)) (1.17.0)\n",
      "Requirement already satisfied: markdown-it-py>=2.2.0 in c:\\users\\dvirl\\pycharmprojects\\semanticanalysis\\.venv\\lib\\site-packages (from rich>=10.11.0->typer<1.0.0,>=0.3.0->spacy->-r ../resources/requirements.txt (line 9)) (4.0.0)\n",
      "Requirement already satisfied: pygments<3.0.0,>=2.13.0 in c:\\users\\dvirl\\pycharmprojects\\semanticanalysis\\.venv\\lib\\site-packages (from rich>=10.11.0->typer<1.0.0,>=0.3.0->spacy->-r ../resources/requirements.txt (line 9)) (2.19.2)\n",
      "Requirement already satisfied: mdurl~=0.1 in c:\\users\\dvirl\\pycharmprojects\\semanticanalysis\\.venv\\lib\\site-packages (from markdown-it-py>=2.2.0->rich>=10.11.0->typer<1.0.0,>=0.3.0->spacy->-r ../resources/requirements.txt (line 9)) (0.1.2)\n",
      "Requirement already satisfied: mpmath<1.4,>=1.1.0 in c:\\users\\dvirl\\pycharmprojects\\semanticanalysis\\.venv\\lib\\site-packages (from sympy>=1.13.3->torch->-r ../resources/requirements.txt (line 14)) (1.3.0)\n",
      "Requirement already satisfied: MarkupSafe>=2.0 in c:\\users\\dvirl\\pycharmprojects\\semanticanalysis\\.venv\\lib\\site-packages (from jinja2->spacy->-r ../resources/requirements.txt (line 9)) (3.0.2)\n"
     ]
    },
    {
     "name": "stderr",
     "output_type": "stream",
     "text": [
      "\n",
      "[notice] A new release of pip is available: 25.1.1 -> 25.2\n",
      "[notice] To update, run: python.exe -m pip install --upgrade pip\n"
     ]
    }
   ],
   "execution_count": 73
  },
  {
   "cell_type": "code",
   "source": [
    "import re\n",
    "import string\n",
    "import pandas as pd\n",
    "import matplotlib.pyplot as plt\n",
    "%matplotlib inline\n",
    "\n",
    "from nltk.corpus import stopwords\n",
    "\n",
    "# Any results you write to the current directory are saved as output."
   ],
   "metadata": {
    "_uuid": "8f2839f25d086af736a60e9eeb907d3b93b6e0e5",
    "_cell_guid": "b1076dfc-b9ad-4769-8c92-a6c4dae69d19",
    "trusted": true,
    "_kg_hide-input": true,
    "_kg_hide-output": true,
    "ExecuteTime": {
     "end_time": "2025-09-09T20:48:56.920284Z",
     "start_time": "2025-09-09T20:48:56.912809Z"
    }
   },
   "outputs": [],
   "execution_count": 186
  },
  {
   "cell_type": "markdown",
   "source": "**Below is a helper Function which generates random colors which can be used to give different colors to your plots.Feel free to use it**",
   "metadata": {}
  },
  {
   "metadata": {
    "_uuid": "d629ff2d2480ee46fbb7e2d37f6b5fab8052498a",
    "_cell_guid": "79c7e3d0-c299-4dcb-8224-4455121ee9b0",
    "trusted": true,
    "_kg_hide-input": true,
    "ExecuteTime": {
     "end_time": "2025-09-09T20:48:57.737256Z",
     "start_time": "2025-09-09T20:48:57.695244Z"
    }
   },
   "cell_type": "code",
   "source": [
    "data = pd.read_csv('../../resources/data/english_tweet.csv')\n",
    "data.drop(columns=['en_tweet', \"Unnamed: 0\"], inplace=True)\n",
    "data"
   ],
   "outputs": [
    {
     "data": {
      "text/plain": [
       "        label                                              tweet\n",
       "0       anger  Soal jln Jatibaru,polisi tdk bs GERTAK gubernu...\n",
       "1       anger  Sesama cewe lho (kayaknya), harusnya bisa lebi...\n",
       "2       happy  Kepingin gudeg mbarek Bu hj. Amad Foto dari go...\n",
       "3       anger  Jln Jatibaru,bagian dari wilayah Tn Abang.Peng...\n",
       "4       happy  Sharing pengalaman aja, kemarin jam 18.00 bata...\n",
       "...       ...                                                ...\n",
       "4396     love  Tahukah kamu, bahwa saat itu papa memejamkan m...\n",
       "4397     fear  Sulitnya menetapkan Calon Wapresnya Jokowi di ...\n",
       "4398    anger  5. masa depannya nggak jelas. lha iya, gimana ...\n",
       "4399    happy  [USERNAME] dulu beneran ada mahasiswa Teknik U...\n",
       "4400  sadness  Ya Allah, hanya Engkau yang mengetahui rasa sa...\n",
       "\n",
       "[4401 rows x 2 columns]"
      ],
      "text/html": [
       "<div>\n",
       "<style scoped>\n",
       "    .dataframe tbody tr th:only-of-type {\n",
       "        vertical-align: middle;\n",
       "    }\n",
       "\n",
       "    .dataframe tbody tr th {\n",
       "        vertical-align: top;\n",
       "    }\n",
       "\n",
       "    .dataframe thead th {\n",
       "        text-align: right;\n",
       "    }\n",
       "</style>\n",
       "<table border=\"1\" class=\"dataframe\">\n",
       "  <thead>\n",
       "    <tr style=\"text-align: right;\">\n",
       "      <th></th>\n",
       "      <th>label</th>\n",
       "      <th>tweet</th>\n",
       "    </tr>\n",
       "  </thead>\n",
       "  <tbody>\n",
       "    <tr>\n",
       "      <th>0</th>\n",
       "      <td>anger</td>\n",
       "      <td>Soal jln Jatibaru,polisi tdk bs GERTAK gubernu...</td>\n",
       "    </tr>\n",
       "    <tr>\n",
       "      <th>1</th>\n",
       "      <td>anger</td>\n",
       "      <td>Sesama cewe lho (kayaknya), harusnya bisa lebi...</td>\n",
       "    </tr>\n",
       "    <tr>\n",
       "      <th>2</th>\n",
       "      <td>happy</td>\n",
       "      <td>Kepingin gudeg mbarek Bu hj. Amad Foto dari go...</td>\n",
       "    </tr>\n",
       "    <tr>\n",
       "      <th>3</th>\n",
       "      <td>anger</td>\n",
       "      <td>Jln Jatibaru,bagian dari wilayah Tn Abang.Peng...</td>\n",
       "    </tr>\n",
       "    <tr>\n",
       "      <th>4</th>\n",
       "      <td>happy</td>\n",
       "      <td>Sharing pengalaman aja, kemarin jam 18.00 bata...</td>\n",
       "    </tr>\n",
       "    <tr>\n",
       "      <th>...</th>\n",
       "      <td>...</td>\n",
       "      <td>...</td>\n",
       "    </tr>\n",
       "    <tr>\n",
       "      <th>4396</th>\n",
       "      <td>love</td>\n",
       "      <td>Tahukah kamu, bahwa saat itu papa memejamkan m...</td>\n",
       "    </tr>\n",
       "    <tr>\n",
       "      <th>4397</th>\n",
       "      <td>fear</td>\n",
       "      <td>Sulitnya menetapkan Calon Wapresnya Jokowi di ...</td>\n",
       "    </tr>\n",
       "    <tr>\n",
       "      <th>4398</th>\n",
       "      <td>anger</td>\n",
       "      <td>5. masa depannya nggak jelas. lha iya, gimana ...</td>\n",
       "    </tr>\n",
       "    <tr>\n",
       "      <th>4399</th>\n",
       "      <td>happy</td>\n",
       "      <td>[USERNAME] dulu beneran ada mahasiswa Teknik U...</td>\n",
       "    </tr>\n",
       "    <tr>\n",
       "      <th>4400</th>\n",
       "      <td>sadness</td>\n",
       "      <td>Ya Allah, hanya Engkau yang mengetahui rasa sa...</td>\n",
       "    </tr>\n",
       "  </tbody>\n",
       "</table>\n",
       "<p>4401 rows × 2 columns</p>\n",
       "</div>"
      ]
     },
     "execution_count": 187,
     "metadata": {},
     "output_type": "execute_result"
    }
   ],
   "execution_count": 187
  },
  {
   "metadata": {
    "ExecuteTime": {
     "end_time": "2025-09-09T20:48:58.195511Z",
     "start_time": "2025-09-09T20:48:58.185206Z"
    }
   },
   "cell_type": "code",
   "source": [
    "import random\n",
    "\n",
    "\n",
    "def random_deletion(words, p=0.2):\n",
    "    \"\"\" Randomly delete words with probability p \"\"\"\n",
    "    if len(words) == 1:\n",
    "        return words\n",
    "    return [w for w in words if random.uniform(0, 1) > p]\n",
    "\n",
    "\n",
    "def random_swap(words, n=1):\n",
    "    \"\"\" Swap two words n times \"\"\"\n",
    "    words = words.copy()\n",
    "    for _ in range(n):\n",
    "        idx1, idx2 = random.sample(range(len(words)), 2)\n",
    "        words[idx1], words[idx2] = words[idx2], words[idx1]\n",
    "    return words\n",
    "\n",
    "\n",
    "def random_insertion(words, n=1):\n",
    "    \"\"\" Insert a random word from the sentence into a random position \"\"\"\n",
    "    words = words.copy()\n",
    "    for _ in range(n):\n",
    "        new_word = random.choice(words)\n",
    "        insert_pos = random.randint(0, len(words))\n",
    "        words.insert(insert_pos, new_word)\n",
    "    return words\n",
    "\n",
    "\n",
    "def augment_text(text):\n",
    "    words = text.split()\n",
    "    choice = random.choice(['delete', 'swap', 'insert'])\n",
    "\n",
    "    if choice == 'delete':\n",
    "        aug_words = random_deletion(words)\n",
    "    elif choice == 'swap':\n",
    "        aug_words = random_swap(words)\n",
    "    elif choice == 'insert':\n",
    "        aug_words = random_insertion(words)\n",
    "\n",
    "    return \" \".join(aug_words)\n"
   ],
   "outputs": [],
   "execution_count": 188
  },
  {
   "cell_type": "code",
   "source": [
    "import random\n",
    "from tqdm import tqdm\n",
    "\n",
    "\n",
    "def augment_dataset(df, text_col=\"tweet\", label_col=\"label\", frac=0.49):\n",
    "    \"\"\"\n",
    "    Augment a fraction of dataset rows and return a bigger dataset\n",
    "    \"\"\"\n",
    "    # sample rows for augmentation\n",
    "    sampled = df.sample(frac=frac, random_state=42)\n",
    "\n",
    "    augmented_texts = []\n",
    "    augmented_labels = []\n",
    "\n",
    "    for _, row in tqdm(sampled.iterrows()):\n",
    "        aug_text = augment_text(row[text_col])  # from previous code\n",
    "        augmented_texts.append(aug_text)\n",
    "        augmented_labels.append(row[label_col])\n",
    "\n",
    "    # make augmented dataframe\n",
    "    df_aug = pd.DataFrame({text_col: augmented_texts, label_col: augmented_labels})\n",
    "\n",
    "    # concatenate with original\n",
    "    df_new = pd.concat([df, df_aug], ignore_index=True)\n",
    "    return df_new\n",
    "\n",
    "\n",
    "df_augmented = augment_dataset(data)\n"
   ],
   "metadata": {
    "trusted": true,
    "_kg_hide-input": true,
    "ExecuteTime": {
     "end_time": "2025-09-09T20:48:58.794622Z",
     "start_time": "2025-09-09T20:48:58.647137Z"
    }
   },
   "outputs": [
    {
     "name": "stderr",
     "output_type": "stream",
     "text": [
      "2156it [00:00, 16028.66it/s]\n"
     ]
    }
   ],
   "execution_count": 189
  },
  {
   "metadata": {
    "ExecuteTime": {
     "end_time": "2025-09-09T20:48:59.087700Z",
     "start_time": "2025-09-09T20:48:59.080253Z"
    }
   },
   "cell_type": "code",
   "source": [
    "indo_stop_words = stopwords.words(fileids='indonesian')\n",
    "indo_stop_words.append(\"[USERNAME]\")\n",
    "indo_stop_words.append(\"url\")"
   ],
   "outputs": [],
   "execution_count": 190
  },
  {
   "metadata": {
    "ExecuteTime": {
     "end_time": "2025-09-09T20:48:59.760397Z",
     "start_time": "2025-09-09T20:48:59.603235Z"
    }
   },
   "cell_type": "code",
   "source": [
    "def clean_text(text):\n",
    "    '''Make text lowercase, remove text in square brackets,remove links,remove punctuation\n",
    "    and remove words containing numbers.'''\n",
    "    # text = str(text).lower()\n",
    "    text = re.sub('\\[.*?\\]', '', text)\n",
    "    text = re.sub('https?://\\S+|www\\.\\S+', '', text)\n",
    "    text = re.sub('<.*?>+', '', text)\n",
    "    text = re.sub('[%s]' % re.escape(string.punctuation), '', text)\n",
    "    text = re.sub('\\n', '', text)\n",
    "    text = re.sub('\\w*\\d\\w*', '', text)\n",
    "    return text\n",
    "\n",
    "\n",
    "data['tweet'] = data['tweet'].apply(lambda x: clean_text(x))\n",
    "data"
   ],
   "outputs": [
    {
     "data": {
      "text/plain": [
       "        label                                              tweet\n",
       "0       anger  Soal jln Jatibarupolisi tdk bs GERTAK gubernur...\n",
       "1       anger  Sesama cewe lho kayaknya harusnya bisa lebih r...\n",
       "2       happy  Kepingin gudeg mbarek Bu hj Amad Foto dari goo...\n",
       "3       anger  Jln Jatibarubagian dari wilayah Tn AbangPengat...\n",
       "4       happy  Sharing pengalaman aja kemarin jam  batalin ti...\n",
       "...       ...                                                ...\n",
       "4396     love  Tahukah kamu bahwa saat itu papa memejamkan ma...\n",
       "4397     fear  Sulitnya menetapkan Calon Wapresnya Jokowi di ...\n",
       "4398    anger   masa depannya nggak jelas lha iya gimana mau ...\n",
       "4399    happy   dulu beneran ada mahasiswa Teknik UI nembak p...\n",
       "4400  sadness  Ya Allah hanya Engkau yang mengetahui rasa sak...\n",
       "\n",
       "[4401 rows x 2 columns]"
      ],
      "text/html": [
       "<div>\n",
       "<style scoped>\n",
       "    .dataframe tbody tr th:only-of-type {\n",
       "        vertical-align: middle;\n",
       "    }\n",
       "\n",
       "    .dataframe tbody tr th {\n",
       "        vertical-align: top;\n",
       "    }\n",
       "\n",
       "    .dataframe thead th {\n",
       "        text-align: right;\n",
       "    }\n",
       "</style>\n",
       "<table border=\"1\" class=\"dataframe\">\n",
       "  <thead>\n",
       "    <tr style=\"text-align: right;\">\n",
       "      <th></th>\n",
       "      <th>label</th>\n",
       "      <th>tweet</th>\n",
       "    </tr>\n",
       "  </thead>\n",
       "  <tbody>\n",
       "    <tr>\n",
       "      <th>0</th>\n",
       "      <td>anger</td>\n",
       "      <td>Soal jln Jatibarupolisi tdk bs GERTAK gubernur...</td>\n",
       "    </tr>\n",
       "    <tr>\n",
       "      <th>1</th>\n",
       "      <td>anger</td>\n",
       "      <td>Sesama cewe lho kayaknya harusnya bisa lebih r...</td>\n",
       "    </tr>\n",
       "    <tr>\n",
       "      <th>2</th>\n",
       "      <td>happy</td>\n",
       "      <td>Kepingin gudeg mbarek Bu hj Amad Foto dari goo...</td>\n",
       "    </tr>\n",
       "    <tr>\n",
       "      <th>3</th>\n",
       "      <td>anger</td>\n",
       "      <td>Jln Jatibarubagian dari wilayah Tn AbangPengat...</td>\n",
       "    </tr>\n",
       "    <tr>\n",
       "      <th>4</th>\n",
       "      <td>happy</td>\n",
       "      <td>Sharing pengalaman aja kemarin jam  batalin ti...</td>\n",
       "    </tr>\n",
       "    <tr>\n",
       "      <th>...</th>\n",
       "      <td>...</td>\n",
       "      <td>...</td>\n",
       "    </tr>\n",
       "    <tr>\n",
       "      <th>4396</th>\n",
       "      <td>love</td>\n",
       "      <td>Tahukah kamu bahwa saat itu papa memejamkan ma...</td>\n",
       "    </tr>\n",
       "    <tr>\n",
       "      <th>4397</th>\n",
       "      <td>fear</td>\n",
       "      <td>Sulitnya menetapkan Calon Wapresnya Jokowi di ...</td>\n",
       "    </tr>\n",
       "    <tr>\n",
       "      <th>4398</th>\n",
       "      <td>anger</td>\n",
       "      <td>masa depannya nggak jelas lha iya gimana mau ...</td>\n",
       "    </tr>\n",
       "    <tr>\n",
       "      <th>4399</th>\n",
       "      <td>happy</td>\n",
       "      <td>dulu beneran ada mahasiswa Teknik UI nembak p...</td>\n",
       "    </tr>\n",
       "    <tr>\n",
       "      <th>4400</th>\n",
       "      <td>sadness</td>\n",
       "      <td>Ya Allah hanya Engkau yang mengetahui rasa sak...</td>\n",
       "    </tr>\n",
       "  </tbody>\n",
       "</table>\n",
       "<p>4401 rows × 2 columns</p>\n",
       "</div>"
      ]
     },
     "execution_count": 191,
     "metadata": {},
     "output_type": "execute_result"
    }
   ],
   "execution_count": 191
  },
  {
   "metadata": {
    "ExecuteTime": {
     "end_time": "2025-09-09T20:49:00.691052Z",
     "start_time": "2025-09-09T20:49:00.026792Z"
    }
   },
   "cell_type": "code",
   "source": [
    "def remove_stopword(x):\n",
    "    return \" \".join([y for y in x.split() if y not in indo_stop_words])\n",
    "\n",
    "data['tweet'] = data['tweet'].apply(lambda x: remove_stopword(x))"
   ],
   "outputs": [],
   "execution_count": 192
  },
  {
   "metadata": {
    "ExecuteTime": {
     "end_time": "2025-09-09T20:49:00.712849Z",
     "start_time": "2025-09-09T20:49:00.701430Z"
    }
   },
   "cell_type": "code",
   "source": "data",
   "outputs": [
    {
     "data": {
      "text/plain": [
       "        label                                              tweet\n",
       "0       anger  Soal jln Jatibarupolisi tdk bs GERTAK gubernur...\n",
       "1       anger  Sesama cewe lho kayaknya rasain sibuk jaga ras...\n",
       "2       happy  Kepingin gudeg mbarek Bu hj Amad Foto google s...\n",
       "3       anger  Jln Jatibarubagian wilayah Tn AbangPengaturan ...\n",
       "4       happy  Sharing pengalaman aja kemarin jam batalin tik...\n",
       "...       ...                                                ...\n",
       "4396     love  Tahukah papa memejamkan matanya menahan gejola...\n",
       "4397     fear  Sulitnya menetapkan Calon Wapresnya Jokowi Pil...\n",
       "4398    anger  depannya nggak lha iya gimana coba lulusan sen...\n",
       "4399    happy  beneran mahasiswa Teknik UI nembak pacarnya pa...\n",
       "4400  sadness   Ya Allah Engkau sakit hati Sembuhkanlah Ya Allah\n",
       "\n",
       "[4401 rows x 2 columns]"
      ],
      "text/html": [
       "<div>\n",
       "<style scoped>\n",
       "    .dataframe tbody tr th:only-of-type {\n",
       "        vertical-align: middle;\n",
       "    }\n",
       "\n",
       "    .dataframe tbody tr th {\n",
       "        vertical-align: top;\n",
       "    }\n",
       "\n",
       "    .dataframe thead th {\n",
       "        text-align: right;\n",
       "    }\n",
       "</style>\n",
       "<table border=\"1\" class=\"dataframe\">\n",
       "  <thead>\n",
       "    <tr style=\"text-align: right;\">\n",
       "      <th></th>\n",
       "      <th>label</th>\n",
       "      <th>tweet</th>\n",
       "    </tr>\n",
       "  </thead>\n",
       "  <tbody>\n",
       "    <tr>\n",
       "      <th>0</th>\n",
       "      <td>anger</td>\n",
       "      <td>Soal jln Jatibarupolisi tdk bs GERTAK gubernur...</td>\n",
       "    </tr>\n",
       "    <tr>\n",
       "      <th>1</th>\n",
       "      <td>anger</td>\n",
       "      <td>Sesama cewe lho kayaknya rasain sibuk jaga ras...</td>\n",
       "    </tr>\n",
       "    <tr>\n",
       "      <th>2</th>\n",
       "      <td>happy</td>\n",
       "      <td>Kepingin gudeg mbarek Bu hj Amad Foto google s...</td>\n",
       "    </tr>\n",
       "    <tr>\n",
       "      <th>3</th>\n",
       "      <td>anger</td>\n",
       "      <td>Jln Jatibarubagian wilayah Tn AbangPengaturan ...</td>\n",
       "    </tr>\n",
       "    <tr>\n",
       "      <th>4</th>\n",
       "      <td>happy</td>\n",
       "      <td>Sharing pengalaman aja kemarin jam batalin tik...</td>\n",
       "    </tr>\n",
       "    <tr>\n",
       "      <th>...</th>\n",
       "      <td>...</td>\n",
       "      <td>...</td>\n",
       "    </tr>\n",
       "    <tr>\n",
       "      <th>4396</th>\n",
       "      <td>love</td>\n",
       "      <td>Tahukah papa memejamkan matanya menahan gejola...</td>\n",
       "    </tr>\n",
       "    <tr>\n",
       "      <th>4397</th>\n",
       "      <td>fear</td>\n",
       "      <td>Sulitnya menetapkan Calon Wapresnya Jokowi Pil...</td>\n",
       "    </tr>\n",
       "    <tr>\n",
       "      <th>4398</th>\n",
       "      <td>anger</td>\n",
       "      <td>depannya nggak lha iya gimana coba lulusan sen...</td>\n",
       "    </tr>\n",
       "    <tr>\n",
       "      <th>4399</th>\n",
       "      <td>happy</td>\n",
       "      <td>beneran mahasiswa Teknik UI nembak pacarnya pa...</td>\n",
       "    </tr>\n",
       "    <tr>\n",
       "      <th>4400</th>\n",
       "      <td>sadness</td>\n",
       "      <td>Ya Allah Engkau sakit hati Sembuhkanlah Ya Allah</td>\n",
       "    </tr>\n",
       "  </tbody>\n",
       "</table>\n",
       "<p>4401 rows × 2 columns</p>\n",
       "</div>"
      ]
     },
     "execution_count": 193,
     "metadata": {},
     "output_type": "execute_result"
    }
   ],
   "execution_count": 193
  },
  {
   "metadata": {
    "ExecuteTime": {
     "end_time": "2025-09-09T20:49:29.822670Z",
     "start_time": "2025-09-09T20:49:29.805149Z"
    }
   },
   "cell_type": "code",
   "source": [
    "from sklearn.metrics import classification_report, confusion_matrix, accuracy_score\n",
    "from sklearn.preprocessing import LabelEncoder\n",
    "from xgboost import XGBClassifier\n",
    "from sklearn.model_selection import train_test_split\n",
    "import pandas as pd\n",
    "from sklearn.feature_extraction.text import TfidfVectorizer\n",
    "\n",
    "# Encode labels\n",
    "encode_labels = LabelEncoder().fit_transform(data[\"label\"])\n",
    "# Train-test split\n",
    "msg_train, msg_test, label_train, label_test = train_test_split(\n",
    "    data.drop(columns=[\"label\"]), encode_labels, test_size=0.05, random_state=42\n",
    ")\n",
    "train_df = pd.DataFrame({\"tweet\": list(msg_train['tweet']), \"label\": list(label_train)})\n",
    "print(f'train size before aug is {len(train_df)}')\n",
    "\n"
   ],
   "outputs": [
    {
     "name": "stdout",
     "output_type": "stream",
     "text": [
      "train size before aug is 4180\n"
     ]
    }
   ],
   "execution_count": 198
  },
  {
   "metadata": {
    "ExecuteTime": {
     "end_time": "2025-09-09T20:49:30.354717Z",
     "start_time": "2025-09-09T20:49:30.223156Z"
    }
   },
   "cell_type": "code",
   "source": [
    "\n",
    "train_df_aug = augment_dataset(train_df)\n",
    "print(f'train size after aug is {len(train_df_aug)}')\n",
    "train_df_aug"
   ],
   "outputs": [
    {
     "name": "stderr",
     "output_type": "stream",
     "text": [
      "2048it [00:00, 18192.00it/s]"
     ]
    },
    {
     "name": "stdout",
     "output_type": "stream",
     "text": [
      "train size after aug is 6228\n"
     ]
    },
    {
     "name": "stderr",
     "output_type": "stream",
     "text": [
      "\n"
     ]
    },
    {
     "data": {
      "text/plain": [
       "                                                  tweet  label\n",
       "0     Acha lucunya dipegang gak digendong gak Dipaks...      2\n",
       "1     Gak jamin deh Tapi gemana Police gak kerja pun...      1\n",
       "2     Berbaringlah rasaseperti nyaman foto Atau saya...      3\n",
       "3     Pas ngerjain thesis tertekan Sampai suka gelis...      1\n",
       "4     Ok Jam tanggal Juli Fix gue ngerasa aneh ngera...      4\n",
       "...                                                 ...    ...\n",
       "6223  Ngak ngerti deh gue Kok orang dunia yg berdiri...      3\n",
       "6224  Bagian terseram caraka malam ditengah hutan be...      1\n",
       "6225  emak kate emak kate perhatian banget grup bang...      3\n",
       "6226  Takut dosa Serius tu akn temen yg pacar nya Ta...      1\n",
       "6227  SUBHANALLOH ngetes anak MI yg Bupati sdh Khata...      2\n",
       "\n",
       "[6228 rows x 2 columns]"
      ],
      "text/html": [
       "<div>\n",
       "<style scoped>\n",
       "    .dataframe tbody tr th:only-of-type {\n",
       "        vertical-align: middle;\n",
       "    }\n",
       "\n",
       "    .dataframe tbody tr th {\n",
       "        vertical-align: top;\n",
       "    }\n",
       "\n",
       "    .dataframe thead th {\n",
       "        text-align: right;\n",
       "    }\n",
       "</style>\n",
       "<table border=\"1\" class=\"dataframe\">\n",
       "  <thead>\n",
       "    <tr style=\"text-align: right;\">\n",
       "      <th></th>\n",
       "      <th>tweet</th>\n",
       "      <th>label</th>\n",
       "    </tr>\n",
       "  </thead>\n",
       "  <tbody>\n",
       "    <tr>\n",
       "      <th>0</th>\n",
       "      <td>Acha lucunya dipegang gak digendong gak Dipaks...</td>\n",
       "      <td>2</td>\n",
       "    </tr>\n",
       "    <tr>\n",
       "      <th>1</th>\n",
       "      <td>Gak jamin deh Tapi gemana Police gak kerja pun...</td>\n",
       "      <td>1</td>\n",
       "    </tr>\n",
       "    <tr>\n",
       "      <th>2</th>\n",
       "      <td>Berbaringlah rasaseperti nyaman foto Atau saya...</td>\n",
       "      <td>3</td>\n",
       "    </tr>\n",
       "    <tr>\n",
       "      <th>3</th>\n",
       "      <td>Pas ngerjain thesis tertekan Sampai suka gelis...</td>\n",
       "      <td>1</td>\n",
       "    </tr>\n",
       "    <tr>\n",
       "      <th>4</th>\n",
       "      <td>Ok Jam tanggal Juli Fix gue ngerasa aneh ngera...</td>\n",
       "      <td>4</td>\n",
       "    </tr>\n",
       "    <tr>\n",
       "      <th>...</th>\n",
       "      <td>...</td>\n",
       "      <td>...</td>\n",
       "    </tr>\n",
       "    <tr>\n",
       "      <th>6223</th>\n",
       "      <td>Ngak ngerti deh gue Kok orang dunia yg berdiri...</td>\n",
       "      <td>3</td>\n",
       "    </tr>\n",
       "    <tr>\n",
       "      <th>6224</th>\n",
       "      <td>Bagian terseram caraka malam ditengah hutan be...</td>\n",
       "      <td>1</td>\n",
       "    </tr>\n",
       "    <tr>\n",
       "      <th>6225</th>\n",
       "      <td>emak kate emak kate perhatian banget grup bang...</td>\n",
       "      <td>3</td>\n",
       "    </tr>\n",
       "    <tr>\n",
       "      <th>6226</th>\n",
       "      <td>Takut dosa Serius tu akn temen yg pacar nya Ta...</td>\n",
       "      <td>1</td>\n",
       "    </tr>\n",
       "    <tr>\n",
       "      <th>6227</th>\n",
       "      <td>SUBHANALLOH ngetes anak MI yg Bupati sdh Khata...</td>\n",
       "      <td>2</td>\n",
       "    </tr>\n",
       "  </tbody>\n",
       "</table>\n",
       "<p>6228 rows × 2 columns</p>\n",
       "</div>"
      ]
     },
     "execution_count": 199,
     "metadata": {},
     "output_type": "execute_result"
    }
   ],
   "execution_count": 199
  },
  {
   "metadata": {
    "ExecuteTime": {
     "end_time": "2025-09-09T20:49:42.888769Z",
     "start_time": "2025-09-09T20:49:31.141981Z"
    }
   },
   "cell_type": "code",
   "source": [
    "\n",
    "msg_train, label_train = train_df_aug[\"tweet\"], train_df_aug[\"label\"]\n",
    "# Suppose df has columns 'tweet' (text) and various numeric feature columns\n",
    "text_col = 'tweet'\n",
    "\n",
    "# 4. TF-IDF on augmented train / raw test\n",
    "vectorizer = TfidfVectorizer()\n",
    "X_train_tfidf = vectorizer.fit_transform(msg_train)\n",
    "X_test_tfidf = vectorizer.transform(msg_test[\"tweet\"])\n",
    "\n",
    "# 5. XGBoost model\n",
    "model = XGBClassifier()\n",
    "model.fit(X_train_tfidf, label_train)\n",
    "predictions = model.predict(X_test_tfidf)\n"
   ],
   "outputs": [],
   "execution_count": 200
  },
  {
   "metadata": {
    "ExecuteTime": {
     "end_time": "2025-09-09T20:49:44.858931Z",
     "start_time": "2025-09-09T20:49:44.839797Z"
    }
   },
   "cell_type": "code",
   "source": [
    "print(\"Accuracy:\", accuracy_score(label_test, predictions))\n",
    "print(classification_report(label_test, predictions))\n",
    "print(\"Confusion Matrix:\\n\", confusion_matrix(label_test, predictions))\n"
   ],
   "outputs": [
    {
     "name": "stdout",
     "output_type": "stream",
     "text": [
      "Accuracy: 0.6334841628959276\n",
      "              precision    recall  f1-score   support\n",
      "\n",
      "           0       0.57      0.72      0.64        61\n",
      "           1       0.81      0.71      0.76        31\n",
      "           2       0.73      0.57      0.64        53\n",
      "           3       0.63      0.74      0.68        23\n",
      "           4       0.55      0.51      0.53        53\n",
      "\n",
      "    accuracy                           0.63       221\n",
      "   macro avg       0.66      0.65      0.65       221\n",
      "weighted avg       0.65      0.63      0.63       221\n",
      "\n",
      "Confusion Matrix:\n",
      " [[44  1  5  1 10]\n",
      " [ 6 22  1  0  2]\n",
      " [12  1 30  3  7]\n",
      " [ 0  0  3 17  3]\n",
      " [15  3  2  6 27]]\n"
     ]
    }
   ],
   "execution_count": 201
  },
  {
   "metadata": {},
   "cell_type": "markdown",
   "source": "## Trying basic NN"
  },
  {
   "metadata": {
    "ExecuteTime": {
     "end_time": "2025-09-09T20:49:49.918086Z",
     "start_time": "2025-09-09T20:49:49.908573Z"
    }
   },
   "cell_type": "code",
   "source": [
    "import torch\n",
    "import torch.nn as nn\n",
    "import torch.nn.functional as F\n",
    "\n",
    "\n",
    "class TextMetaClassifier(nn.Module):\n",
    "    def __init__(self, text_input_dim, hidden_dim, output_dim):\n",
    "        super().__init__()\n",
    "        # Branch for text features\n",
    "        self.text_fc = nn.Linear(text_input_dim, hidden_dim)\n",
    "        # Branch for metadata features\n",
    "        # Combined layers\n",
    "        self.combined_fc1 = nn.Linear(hidden_dim, int(hidden_dim / 2))\n",
    "        self.combined_fc2 = nn.Linear(int(hidden_dim / 2), output_dim)\n",
    "\n",
    "    def forward(self, text_x):\n",
    "        # text_x: (batch_size, text_input_dim)\n",
    "        x = F.relu(self.text_fc(text_x))\n",
    "        # Concatenate along feature dimension\n",
    "        x = F.relu(self.combined_fc1(x))\n",
    "        out = self.combined_fc2(x)\n",
    "        return out\n"
   ],
   "outputs": [],
   "execution_count": 202
  },
  {
   "metadata": {
    "ExecuteTime": {
     "end_time": "2025-09-09T20:49:50.564468Z",
     "start_time": "2025-09-09T20:49:50.550080Z"
    }
   },
   "cell_type": "code",
   "source": [
    "data = df_augmented\n",
    "data"
   ],
   "outputs": [
    {
     "data": {
      "text/plain": [
       "        label                                              tweet\n",
       "0       anger  Soal jln Jatibaru,polisi tdk bs GERTAK gubernu...\n",
       "1       anger  Sesama cewe lho (kayaknya), harusnya bisa lebi...\n",
       "2       happy  Kepingin gudeg mbarek Bu hj. Amad Foto dari go...\n",
       "3       anger  Jln Jatibaru,bagian dari wilayah Tn Abang.Peng...\n",
       "4       happy  Sharing pengalaman aja, kemarin jam 18.00 bata...\n",
       "...       ...                                                ...\n",
       "6552    anger  Gw bilang bilang juga apa??? Kebaca benerrr ke...\n",
       "6553    happy  paling seneng kalo berobat di bandung. bisa ko...\n",
       "6554     fear  Trs pas udh ampe staisun w lg nih, beliau mara...\n",
       "6555  sadness  siang tadi merasa bodoh pengen ke sebuah Cafe ...\n",
       "6556  sadness  Ketika liat anak keputih korban kebakaran, lin...\n",
       "\n",
       "[6557 rows x 2 columns]"
      ],
      "text/html": [
       "<div>\n",
       "<style scoped>\n",
       "    .dataframe tbody tr th:only-of-type {\n",
       "        vertical-align: middle;\n",
       "    }\n",
       "\n",
       "    .dataframe tbody tr th {\n",
       "        vertical-align: top;\n",
       "    }\n",
       "\n",
       "    .dataframe thead th {\n",
       "        text-align: right;\n",
       "    }\n",
       "</style>\n",
       "<table border=\"1\" class=\"dataframe\">\n",
       "  <thead>\n",
       "    <tr style=\"text-align: right;\">\n",
       "      <th></th>\n",
       "      <th>label</th>\n",
       "      <th>tweet</th>\n",
       "    </tr>\n",
       "  </thead>\n",
       "  <tbody>\n",
       "    <tr>\n",
       "      <th>0</th>\n",
       "      <td>anger</td>\n",
       "      <td>Soal jln Jatibaru,polisi tdk bs GERTAK gubernu...</td>\n",
       "    </tr>\n",
       "    <tr>\n",
       "      <th>1</th>\n",
       "      <td>anger</td>\n",
       "      <td>Sesama cewe lho (kayaknya), harusnya bisa lebi...</td>\n",
       "    </tr>\n",
       "    <tr>\n",
       "      <th>2</th>\n",
       "      <td>happy</td>\n",
       "      <td>Kepingin gudeg mbarek Bu hj. Amad Foto dari go...</td>\n",
       "    </tr>\n",
       "    <tr>\n",
       "      <th>3</th>\n",
       "      <td>anger</td>\n",
       "      <td>Jln Jatibaru,bagian dari wilayah Tn Abang.Peng...</td>\n",
       "    </tr>\n",
       "    <tr>\n",
       "      <th>4</th>\n",
       "      <td>happy</td>\n",
       "      <td>Sharing pengalaman aja, kemarin jam 18.00 bata...</td>\n",
       "    </tr>\n",
       "    <tr>\n",
       "      <th>...</th>\n",
       "      <td>...</td>\n",
       "      <td>...</td>\n",
       "    </tr>\n",
       "    <tr>\n",
       "      <th>6552</th>\n",
       "      <td>anger</td>\n",
       "      <td>Gw bilang bilang juga apa??? Kebaca benerrr ke...</td>\n",
       "    </tr>\n",
       "    <tr>\n",
       "      <th>6553</th>\n",
       "      <td>happy</td>\n",
       "      <td>paling seneng kalo berobat di bandung. bisa ko...</td>\n",
       "    </tr>\n",
       "    <tr>\n",
       "      <th>6554</th>\n",
       "      <td>fear</td>\n",
       "      <td>Trs pas udh ampe staisun w lg nih, beliau mara...</td>\n",
       "    </tr>\n",
       "    <tr>\n",
       "      <th>6555</th>\n",
       "      <td>sadness</td>\n",
       "      <td>siang tadi merasa bodoh pengen ke sebuah Cafe ...</td>\n",
       "    </tr>\n",
       "    <tr>\n",
       "      <th>6556</th>\n",
       "      <td>sadness</td>\n",
       "      <td>Ketika liat anak keputih korban kebakaran, lin...</td>\n",
       "    </tr>\n",
       "  </tbody>\n",
       "</table>\n",
       "<p>6557 rows × 2 columns</p>\n",
       "</div>"
      ]
     },
     "execution_count": 203,
     "metadata": {},
     "output_type": "execute_result"
    }
   ],
   "execution_count": 203
  },
  {
   "metadata": {
    "ExecuteTime": {
     "end_time": "2025-09-09T20:49:51.588938Z",
     "start_time": "2025-09-09T20:49:51.387714Z"
    }
   },
   "cell_type": "code",
   "source": "tfidfVectorizer = TfidfVectorizer().fit(data[text_col])",
   "outputs": [],
   "execution_count": 204
  },
  {
   "metadata": {
    "ExecuteTime": {
     "end_time": "2025-09-09T20:50:00.382326Z",
     "start_time": "2025-09-09T20:50:00.371993Z"
    }
   },
   "cell_type": "code",
   "source": [
    "encode_labels = LabelEncoder().fit_transform(data[\"label\"])\n",
    "\n",
    "train_data, test_data, label_train, label_test = train_test_split(\n",
    "    data.drop(columns=[\"label\"]), encode_labels, test_size=0.05, random_state=42\n",
    ")\n",
    "\n"
   ],
   "outputs": [],
   "execution_count": 206
  },
  {
   "metadata": {
    "ExecuteTime": {
     "end_time": "2025-09-09T20:50:00.845011Z",
     "start_time": "2025-09-09T20:50:00.838054Z"
    }
   },
   "cell_type": "code",
   "source": [
    "def prepare_data_to_nn(data, labels):\n",
    "    tfidf_array = tfidfVectorizer.transform(data[text_col]).toarray()\n",
    "    one_hot_tensor_label = pd.get_dummies(labels).to_numpy(dtype=\"long\")\n",
    "    return tfidf_array, one_hot_tensor_label\n"
   ],
   "outputs": [],
   "execution_count": 207
  },
  {
   "metadata": {
    "ExecuteTime": {
     "end_time": "2025-09-09T20:50:01.981803Z",
     "start_time": "2025-09-09T20:50:01.367381Z"
    }
   },
   "cell_type": "code",
   "source": [
    "import numpy as np\n",
    "from torch.utils.data import Dataset, DataLoader\n",
    "\n",
    "\n",
    "class TextMetaDataset(Dataset):\n",
    "    def __init__(self, text_feats, labels):\n",
    "        self.text_feats = torch.tensor(text_feats, dtype=torch.float32)\n",
    "        self.labels = torch.tensor(labels, dtype=torch.float32)\n",
    "\n",
    "    def __len__(self):\n",
    "        return len(self.labels)\n",
    "\n",
    "    def __getitem__(self, idx):\n",
    "        return self.text_feats[idx], self.labels[idx]\n",
    "\n",
    "\n",
    "tfidf_array_train, one_hot_tensor_label_train = prepare_data_to_nn(train_data, label_train)\n",
    "train_ds = TextMetaDataset(tfidf_array_train, one_hot_tensor_label_train)\n",
    "train_loader = DataLoader(train_ds, batch_size=32, shuffle=True)\n",
    "\n",
    "tfidf_arra_testy, one_hot_tensor_label_test = prepare_data_to_nn(test_data, label_test)\n",
    "test_ds = TextMetaDataset(tfidf_arra_testy, one_hot_tensor_label_test)\n",
    "test_loader = DataLoader(test_ds, batch_size=len(label_test))"
   ],
   "outputs": [],
   "execution_count": 208
  },
  {
   "metadata": {
    "ExecuteTime": {
     "end_time": "2025-09-09T20:50:02.108463Z",
     "start_time": "2025-09-09T20:50:02.094335Z"
    }
   },
   "cell_type": "code",
   "source": "train_data",
   "outputs": [
    {
     "data": {
      "text/plain": [
       "                                                  tweet\n",
       "5022  [USERNAME] aku ingin menjemput waktu-waktu sud...\n",
       "37    Ponakan kls 4 SD: lg demen nonton video tutori...\n",
       "743   gw maklumin aja omongan Mommy gw dia emang ga ...\n",
       "5437  Ketemu temen yang se manhaj dalam sastra dan b...\n",
       "3214  [USERNAME] Dan kadang Tuhan tuh bukan minta ki...\n",
       "...                                                 ...\n",
       "3772  [USERNAME] Ya Allah...apa2 kok yg disalahin pr...\n",
       "5191  Gue dibanding pencitraan merasa bahwa menjadi ...\n",
       "5226  Love this waktu terima kasih atas pic yang san...\n",
       "5390  Bener bener ketawa balap habis habis gue Inget...\n",
       "860   Gue punya Temen yg dibela-belain pinjem duwit ...\n",
       "\n",
       "[6229 rows x 1 columns]"
      ],
      "text/html": [
       "<div>\n",
       "<style scoped>\n",
       "    .dataframe tbody tr th:only-of-type {\n",
       "        vertical-align: middle;\n",
       "    }\n",
       "\n",
       "    .dataframe tbody tr th {\n",
       "        vertical-align: top;\n",
       "    }\n",
       "\n",
       "    .dataframe thead th {\n",
       "        text-align: right;\n",
       "    }\n",
       "</style>\n",
       "<table border=\"1\" class=\"dataframe\">\n",
       "  <thead>\n",
       "    <tr style=\"text-align: right;\">\n",
       "      <th></th>\n",
       "      <th>tweet</th>\n",
       "    </tr>\n",
       "  </thead>\n",
       "  <tbody>\n",
       "    <tr>\n",
       "      <th>5022</th>\n",
       "      <td>[USERNAME] aku ingin menjemput waktu-waktu sud...</td>\n",
       "    </tr>\n",
       "    <tr>\n",
       "      <th>37</th>\n",
       "      <td>Ponakan kls 4 SD: lg demen nonton video tutori...</td>\n",
       "    </tr>\n",
       "    <tr>\n",
       "      <th>743</th>\n",
       "      <td>gw maklumin aja omongan Mommy gw dia emang ga ...</td>\n",
       "    </tr>\n",
       "    <tr>\n",
       "      <th>5437</th>\n",
       "      <td>Ketemu temen yang se manhaj dalam sastra dan b...</td>\n",
       "    </tr>\n",
       "    <tr>\n",
       "      <th>3214</th>\n",
       "      <td>[USERNAME] Dan kadang Tuhan tuh bukan minta ki...</td>\n",
       "    </tr>\n",
       "    <tr>\n",
       "      <th>...</th>\n",
       "      <td>...</td>\n",
       "    </tr>\n",
       "    <tr>\n",
       "      <th>3772</th>\n",
       "      <td>[USERNAME] Ya Allah...apa2 kok yg disalahin pr...</td>\n",
       "    </tr>\n",
       "    <tr>\n",
       "      <th>5191</th>\n",
       "      <td>Gue dibanding pencitraan merasa bahwa menjadi ...</td>\n",
       "    </tr>\n",
       "    <tr>\n",
       "      <th>5226</th>\n",
       "      <td>Love this waktu terima kasih atas pic yang san...</td>\n",
       "    </tr>\n",
       "    <tr>\n",
       "      <th>5390</th>\n",
       "      <td>Bener bener ketawa balap habis habis gue Inget...</td>\n",
       "    </tr>\n",
       "    <tr>\n",
       "      <th>860</th>\n",
       "      <td>Gue punya Temen yg dibela-belain pinjem duwit ...</td>\n",
       "    </tr>\n",
       "  </tbody>\n",
       "</table>\n",
       "<p>6229 rows × 1 columns</p>\n",
       "</div>"
      ]
     },
     "execution_count": 209,
     "metadata": {},
     "output_type": "execute_result"
    }
   ],
   "execution_count": 209
  },
  {
   "metadata": {
    "ExecuteTime": {
     "end_time": "2025-09-09T20:50:10.407126Z",
     "start_time": "2025-09-09T20:50:10.371016Z"
    }
   },
   "cell_type": "code",
   "source": [
    "model = TextMetaClassifier(tfidf_array_train.shape[1], hidden_dim=256, output_dim=5)\n",
    "optimizer = torch.optim.Adam(model.parameters(), lr=1e-4)\n",
    "criterion = nn.CrossEntropyLoss()"
   ],
   "outputs": [],
   "execution_count": 212
  },
  {
   "metadata": {
    "ExecuteTime": {
     "end_time": "2025-09-09T20:58:39.679451Z",
     "start_time": "2025-09-09T20:50:14.114665Z"
    }
   },
   "cell_type": "code",
   "source": [
    "losses_train = []\n",
    "acc_train = []\n",
    "acc_val = []\n",
    "for epoch in range(100):\n",
    "    model.train()\n",
    "    losses_batch = []\n",
    "    acc_batch = []\n",
    "    for text_x, y in train_loader:\n",
    "        optimizer.zero_grad()\n",
    "        outputs = model(text_x)\n",
    "        loss = criterion(outputs, y)\n",
    "        loss.backward()\n",
    "        optimizer.step()\n",
    "        losses_batch.append(loss.item())  # convert to numbers (0/1)\n",
    "        acc_batch.append(100 * torch.mean(\n",
    "            (torch.argmax(y, axis=1) == np.argmax(y, axis=1)).float()).item())\n",
    "    acc_train.append(np.mean(acc_batch))\n",
    "    losses_train.append(np.mean(losses_batch))\n",
    "    # test accuracy\n",
    "    model.eval()\n",
    "    text_x, y = next(iter(test_loader))  # extract X,y from test dataloader\n",
    "    with torch.no_grad():  # deactivates autograd\n",
    "        yHat = model(text_x)\n",
    "    acc_val.append(\n",
    "        100 * torch.mean((torch.argmax(yHat, axis=1) == np.argmax(y, axis=1)).float()))\n",
    "\n",
    "    print(f'Epoch {epoch + 1}, Loss: {loss.item():.4f}')\n"
   ],
   "outputs": [
    {
     "name": "stdout",
     "output_type": "stream",
     "text": [
      "Epoch 1, Loss: 1.5760\n",
      "Epoch 2, Loss: 1.3322\n",
      "Epoch 3, Loss: 0.9938\n",
      "Epoch 4, Loss: 0.7862\n",
      "Epoch 5, Loss: 0.4060\n",
      "Epoch 6, Loss: 0.2375\n",
      "Epoch 7, Loss: 0.1740\n",
      "Epoch 8, Loss: 0.1293\n",
      "Epoch 9, Loss: 0.0592\n",
      "Epoch 10, Loss: 0.0267\n",
      "Epoch 11, Loss: 0.0321\n",
      "Epoch 12, Loss: 0.0099\n",
      "Epoch 13, Loss: 0.0109\n",
      "Epoch 14, Loss: 0.0108\n",
      "Epoch 15, Loss: 0.0390\n",
      "Epoch 16, Loss: 0.0097\n",
      "Epoch 17, Loss: 0.1281\n",
      "Epoch 18, Loss: 0.0049\n",
      "Epoch 19, Loss: 0.0185\n",
      "Epoch 20, Loss: 0.0079\n",
      "Epoch 21, Loss: 0.0030\n",
      "Epoch 22, Loss: 0.0032\n",
      "Epoch 23, Loss: 0.0032\n",
      "Epoch 24, Loss: 0.0024\n",
      "Epoch 25, Loss: 0.0016\n",
      "Epoch 26, Loss: 0.0013\n",
      "Epoch 27, Loss: 0.0018\n",
      "Epoch 28, Loss: 0.0010\n",
      "Epoch 29, Loss: 0.0631\n",
      "Epoch 30, Loss: 0.0010\n",
      "Epoch 31, Loss: 0.0010\n",
      "Epoch 32, Loss: 0.0007\n",
      "Epoch 33, Loss: 0.0005\n",
      "Epoch 34, Loss: 0.0009\n",
      "Epoch 35, Loss: 0.0008\n",
      "Epoch 36, Loss: 0.0007\n",
      "Epoch 37, Loss: 0.0004\n",
      "Epoch 38, Loss: 0.0003\n",
      "Epoch 39, Loss: 0.0004\n",
      "Epoch 40, Loss: 0.0004\n",
      "Epoch 41, Loss: 0.0003\n",
      "Epoch 42, Loss: 0.0002\n",
      "Epoch 43, Loss: 0.0002\n",
      "Epoch 44, Loss: 0.0463\n",
      "Epoch 45, Loss: 0.0002\n",
      "Epoch 46, Loss: 0.0002\n",
      "Epoch 47, Loss: 0.0002\n",
      "Epoch 48, Loss: 0.0002\n",
      "Epoch 49, Loss: 0.0002\n",
      "Epoch 50, Loss: 0.0001\n",
      "Epoch 51, Loss: 0.0001\n",
      "Epoch 52, Loss: 0.0001\n",
      "Epoch 53, Loss: 0.0001\n",
      "Epoch 54, Loss: 0.0001\n",
      "Epoch 55, Loss: 0.0002\n",
      "Epoch 56, Loss: 0.0001\n",
      "Epoch 57, Loss: 0.0001\n",
      "Epoch 58, Loss: 0.0001\n",
      "Epoch 59, Loss: 0.0001\n",
      "Epoch 60, Loss: 0.0000\n",
      "Epoch 61, Loss: 0.0000\n",
      "Epoch 62, Loss: 0.0001\n",
      "Epoch 63, Loss: 0.0000\n",
      "Epoch 64, Loss: 0.0000\n",
      "Epoch 65, Loss: 0.0000\n",
      "Epoch 66, Loss: 0.0000\n",
      "Epoch 67, Loss: 0.0000\n",
      "Epoch 68, Loss: 0.0000\n",
      "Epoch 69, Loss: 0.0000\n",
      "Epoch 70, Loss: 0.0002\n",
      "Epoch 71, Loss: 0.0000\n",
      "Epoch 72, Loss: 0.0000\n",
      "Epoch 73, Loss: 0.0000\n",
      "Epoch 74, Loss: 0.0000\n",
      "Epoch 75, Loss: 0.0000\n",
      "Epoch 76, Loss: 0.0000\n",
      "Epoch 77, Loss: 0.0000\n",
      "Epoch 78, Loss: 0.0000\n",
      "Epoch 79, Loss: 0.0000\n",
      "Epoch 80, Loss: 0.0814\n",
      "Epoch 81, Loss: 0.0000\n",
      "Epoch 82, Loss: 0.0000\n",
      "Epoch 83, Loss: 0.0000\n",
      "Epoch 84, Loss: 0.0000\n",
      "Epoch 85, Loss: 0.0000\n",
      "Epoch 86, Loss: 0.0000\n",
      "Epoch 87, Loss: 0.0000\n",
      "Epoch 88, Loss: 0.0000\n",
      "Epoch 89, Loss: 0.0000\n",
      "Epoch 90, Loss: 0.0000\n",
      "Epoch 91, Loss: 0.0000\n",
      "Epoch 92, Loss: 0.0000\n",
      "Epoch 93, Loss: 0.0000\n",
      "Epoch 94, Loss: 0.0000\n",
      "Epoch 95, Loss: 0.0000\n",
      "Epoch 96, Loss: 0.0000\n",
      "Epoch 97, Loss: 0.0000\n",
      "Epoch 98, Loss: 0.0000\n",
      "Epoch 99, Loss: 0.0000\n",
      "Epoch 100, Loss: 0.0000\n"
     ]
    }
   ],
   "execution_count": 213
  },
  {
   "metadata": {
    "ExecuteTime": {
     "end_time": "2025-09-09T20:58:40.292742Z",
     "start_time": "2025-09-09T20:58:39.750459Z"
    }
   },
   "cell_type": "code",
   "source": [
    "\n",
    "fig, ax = plt.subplots(1, 2, figsize=(13, 4))\n",
    "\n",
    "ax[0].plot(losses_train)\n",
    "ax[0].set_ylabel('Loss')\n",
    "ax[0].set_xlabel('epoch')\n",
    "ax[0].set_title('Losses')\n",
    "\n",
    "ax[1].plot(acc_train, label='Train')\n",
    "ax[1].plot(acc_val, label='Test')\n",
    "ax[1].set_ylabel('Accuracy (%)')\n",
    "ax[1].set_xlabel('Epoch')\n",
    "ax[1].set_title(f'Accuracy {max(acc_val):.2f}%')\n",
    "ax[1].legend()\n",
    "plt.show()"
   ],
   "outputs": [
    {
     "data": {
      "text/plain": [
       "<Figure size 1300x400 with 2 Axes>"
      ],
      "image/png": "[encoded data removed]"
     },
     "metadata": {},
     "output_type": "display_data"
    }
   ],
   "execution_count": 214
  },
  {
   "cell_type": "code",
   "source": "max(acc_val)",
   "metadata": {
    "trusted": true,
    "ExecuteTime": {
     "end_time": "2025-09-09T20:58:40.328058Z",
     "start_time": "2025-09-09T20:58:40.312506Z"
    }
   },
   "outputs": [
    {
     "data": {
      "text/plain": [
       "tensor(91.7683)"
      ]
     },
     "execution_count": 215,
     "metadata": {},
     "output_type": "execute_result"
    }
   ],
   "execution_count": 215
  },
  {
   "metadata": {
    "ExecuteTime": {
     "end_time": "2025-09-09T20:58:40.443504Z",
     "start_time": "2025-09-09T20:58:40.353803Z"
    }
   },
   "cell_type": "code",
   "source": [
    "model.eval()\n",
    "text_x, y = next(iter(test_loader))  # extract X,y from test dataloader\n",
    "with torch.no_grad():  # deactivates autograd\n",
    "    yHat = model(text_x)\n",
    "confusion_matrix(torch.argmax(yHat, axis=1), np.argmax(y, axis=1))\n",
    "\n",
    "print(\"Accuracy:\", accuracy_score(torch.argmax(yHat, axis=1), np.argmax(y, axis=1)))\n",
    "print(classification_report(torch.argmax(yHat, axis=1), np.argmax(y, axis=1)))\n",
    "print(\"Confusion Matrix:\\n\", confusion_matrix(torch.argmax(yHat, axis=1), np.argmax(y, axis=1)))"
   ],
   "outputs": [
    {
     "name": "stdout",
     "output_type": "stream",
     "text": [
      "Accuracy: 0.9085365853658537\n",
      "              precision    recall  f1-score   support\n",
      "\n",
      "           0       0.90      0.93      0.91        69\n",
      "           1       0.89      0.98      0.93        48\n",
      "           2       0.87      0.90      0.88        72\n",
      "           3       0.98      0.90      0.94        51\n",
      "           4       0.93      0.86      0.89        88\n",
      "\n",
      "    accuracy                           0.91       328\n",
      "   macro avg       0.91      0.92      0.91       328\n",
      "weighted avg       0.91      0.91      0.91       328\n",
      "\n",
      "Confusion Matrix:\n",
      " [[64  0  5  0  0]\n",
      " [ 1 47  0  0  0]\n",
      " [ 2  0 65  1  4]\n",
      " [ 0  2  1 46  2]\n",
      " [ 4  4  4  0 76]]\n"
     ]
    }
   ],
   "execution_count": 216
  },
  {
   "metadata": {},
   "cell_type": "code",
   "outputs": [],
   "execution_count": null,
   "source": ""
  }
 ]
}
