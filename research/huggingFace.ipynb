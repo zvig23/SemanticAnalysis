{
 "cells": [
  {
   "cell_type": "code",
   "id": "initial_id",
   "metadata": {
    "collapsed": true,
    "ExecuteTime": {
     "end_time": "2025-08-12T15:24:32.276221Z",
     "start_time": "2025-08-12T15:24:29.459172Z"
    }
   },
   "source": [
    "from sklearn.preprocessing import LabelEncoder\n",
    "!pip install -r ../resources/requirements.txt\n"
   ],
   "outputs": [
    {
     "name": "stdout",
     "output_type": "stream",
     "text": [
      "Requirement already satisfied: numpy in c:\\users\\dvirl\\pycharmprojects\\semanticanalysis\\.venv\\lib\\site-packages (from -r ../resources/requirements.txt (line 1)) (2.3.2)\n",
      "Requirement already satisfied: pandas in c:\\users\\dvirl\\pycharmprojects\\semanticanalysis\\.venv\\lib\\site-packages (from -r ../resources/requirements.txt (line 2)) (2.3.1)\n",
      "Requirement already satisfied: matplotlib in c:\\users\\dvirl\\pycharmprojects\\semanticanalysis\\.venv\\lib\\site-packages (from -r ../resources/requirements.txt (line 3)) (3.10.5)\n",
      "Requirement already satisfied: seaborn in c:\\users\\dvirl\\pycharmprojects\\semanticanalysis\\.venv\\lib\\site-packages (from -r ../resources/requirements.txt (line 4)) (0.13.2)\n",
      "Requirement already satisfied: plotly in c:\\users\\dvirl\\pycharmprojects\\semanticanalysis\\.venv\\lib\\site-packages (from -r ../resources/requirements.txt (line 5)) (6.2.0)\n",
      "Requirement already satisfied: Pillow in c:\\users\\dvirl\\pycharmprojects\\semanticanalysis\\.venv\\lib\\site-packages (from -r ../resources/requirements.txt (line 6)) (11.3.0)\n",
      "Requirement already satisfied: wordcloud in c:\\users\\dvirl\\pycharmprojects\\semanticanalysis\\.venv\\lib\\site-packages (from -r ../resources/requirements.txt (line 7)) (1.9.4)\n",
      "Requirement already satisfied: nltk in c:\\users\\dvirl\\pycharmprojects\\semanticanalysis\\.venv\\lib\\site-packages (from -r ../resources/requirements.txt (line 8)) (3.9.1)\n",
      "Requirement already satisfied: spacy in c:\\users\\dvirl\\pycharmprojects\\semanticanalysis\\.venv\\lib\\site-packages (from -r ../resources/requirements.txt (line 9)) (3.8.7)\n",
      "Requirement already satisfied: tqdm in c:\\users\\dvirl\\pycharmprojects\\semanticanalysis\\.venv\\lib\\site-packages (from -r ../resources/requirements.txt (line 10)) (4.67.1)\n",
      "Requirement already satisfied: scipy in c:\\users\\dvirl\\pycharmprojects\\semanticanalysis\\.venv\\lib\\site-packages (from -r ../resources/requirements.txt (line 11)) (1.16.1)\n",
      "Requirement already satisfied: scikit-learn in c:\\users\\dvirl\\pycharmprojects\\semanticanalysis\\.venv\\lib\\site-packages (from -r ../resources/requirements.txt (line 12)) (1.7.1)\n",
      "Requirement already satisfied: xgboost in c:\\users\\dvirl\\pycharmprojects\\semanticanalysis\\.venv\\lib\\site-packages (from -r ../resources/requirements.txt (line 13)) (3.0.4)\n",
      "Requirement already satisfied: torch in c:\\users\\dvirl\\pycharmprojects\\semanticanalysis\\.venv\\lib\\site-packages (from -r ../resources/requirements.txt (line 14)) (2.8.0)\n",
      "Requirement already satisfied: transformers in c:\\users\\dvirl\\pycharmprojects\\semanticanalysis\\.venv\\lib\\site-packages (from -r ../resources/requirements.txt (line 15)) (4.55.0)\n",
      "Requirement already satisfied: python-dateutil>=2.8.2 in c:\\users\\dvirl\\pycharmprojects\\semanticanalysis\\.venv\\lib\\site-packages (from pandas->-r ../resources/requirements.txt (line 2)) (2.9.0.post0)\n",
      "Requirement already satisfied: pytz>=2020.1 in c:\\users\\dvirl\\pycharmprojects\\semanticanalysis\\.venv\\lib\\site-packages (from pandas->-r ../resources/requirements.txt (line 2)) (2025.2)\n",
      "Requirement already satisfied: tzdata>=2022.7 in c:\\users\\dvirl\\pycharmprojects\\semanticanalysis\\.venv\\lib\\site-packages (from pandas->-r ../resources/requirements.txt (line 2)) (2025.2)\n",
      "Requirement already satisfied: contourpy>=1.0.1 in c:\\users\\dvirl\\pycharmprojects\\semanticanalysis\\.venv\\lib\\site-packages (from matplotlib->-r ../resources/requirements.txt (line 3)) (1.3.3)\n",
      "Requirement already satisfied: cycler>=0.10 in c:\\users\\dvirl\\pycharmprojects\\semanticanalysis\\.venv\\lib\\site-packages (from matplotlib->-r ../resources/requirements.txt (line 3)) (0.12.1)\n",
      "Requirement already satisfied: fonttools>=4.22.0 in c:\\users\\dvirl\\pycharmprojects\\semanticanalysis\\.venv\\lib\\site-packages (from matplotlib->-r ../resources/requirements.txt (line 3)) (4.59.0)\n",
      "Requirement already satisfied: kiwisolver>=1.3.1 in c:\\users\\dvirl\\pycharmprojects\\semanticanalysis\\.venv\\lib\\site-packages (from matplotlib->-r ../resources/requirements.txt (line 3)) (1.4.9)\n",
      "Requirement already satisfied: packaging>=20.0 in c:\\users\\dvirl\\pycharmprojects\\semanticanalysis\\.venv\\lib\\site-packages (from matplotlib->-r ../resources/requirements.txt (line 3)) (25.0)\n",
      "Requirement already satisfied: pyparsing>=2.3.1 in c:\\users\\dvirl\\pycharmprojects\\semanticanalysis\\.venv\\lib\\site-packages (from matplotlib->-r ../resources/requirements.txt (line 3)) (3.2.3)\n",
      "Requirement already satisfied: narwhals>=1.15.1 in c:\\users\\dvirl\\pycharmprojects\\semanticanalysis\\.venv\\lib\\site-packages (from plotly->-r ../resources/requirements.txt (line 5)) (2.1.0)\n",
      "Requirement already satisfied: click in c:\\users\\dvirl\\pycharmprojects\\semanticanalysis\\.venv\\lib\\site-packages (from nltk->-r ../resources/requirements.txt (line 8)) (8.2.1)\n",
      "Requirement already satisfied: joblib in c:\\users\\dvirl\\pycharmprojects\\semanticanalysis\\.venv\\lib\\site-packages (from nltk->-r ../resources/requirements.txt (line 8)) (1.5.1)\n",
      "Requirement already satisfied: regex>=2021.8.3 in c:\\users\\dvirl\\pycharmprojects\\semanticanalysis\\.venv\\lib\\site-packages (from nltk->-r ../resources/requirements.txt (line 8)) (2025.7.34)\n",
      "Requirement already satisfied: spacy-legacy<3.1.0,>=3.0.11 in c:\\users\\dvirl\\pycharmprojects\\semanticanalysis\\.venv\\lib\\site-packages (from spacy->-r ../resources/requirements.txt (line 9)) (3.0.12)\n",
      "Requirement already satisfied: spacy-loggers<2.0.0,>=1.0.0 in c:\\users\\dvirl\\pycharmprojects\\semanticanalysis\\.venv\\lib\\site-packages (from spacy->-r ../resources/requirements.txt (line 9)) (1.0.5)\n",
      "Requirement already satisfied: murmurhash<1.1.0,>=0.28.0 in c:\\users\\dvirl\\pycharmprojects\\semanticanalysis\\.venv\\lib\\site-packages (from spacy->-r ../resources/requirements.txt (line 9)) (1.0.13)\n",
      "Requirement already satisfied: cymem<2.1.0,>=2.0.2 in c:\\users\\dvirl\\pycharmprojects\\semanticanalysis\\.venv\\lib\\site-packages (from spacy->-r ../resources/requirements.txt (line 9)) (2.0.11)\n",
      "Requirement already satisfied: preshed<3.1.0,>=3.0.2 in c:\\users\\dvirl\\pycharmprojects\\semanticanalysis\\.venv\\lib\\site-packages (from spacy->-r ../resources/requirements.txt (line 9)) (3.0.10)\n",
      "Requirement already satisfied: thinc<8.4.0,>=8.3.4 in c:\\users\\dvirl\\pycharmprojects\\semanticanalysis\\.venv\\lib\\site-packages (from spacy->-r ../resources/requirements.txt (line 9)) (8.3.6)\n",
      "Requirement already satisfied: wasabi<1.2.0,>=0.9.1 in c:\\users\\dvirl\\pycharmprojects\\semanticanalysis\\.venv\\lib\\site-packages (from spacy->-r ../resources/requirements.txt (line 9)) (1.1.3)\n",
      "Requirement already satisfied: srsly<3.0.0,>=2.4.3 in c:\\users\\dvirl\\pycharmprojects\\semanticanalysis\\.venv\\lib\\site-packages (from spacy->-r ../resources/requirements.txt (line 9)) (2.5.1)\n",
      "Requirement already satisfied: catalogue<2.1.0,>=2.0.6 in c:\\users\\dvirl\\pycharmprojects\\semanticanalysis\\.venv\\lib\\site-packages (from spacy->-r ../resources/requirements.txt (line 9)) (2.0.10)\n",
      "Requirement already satisfied: weasel<0.5.0,>=0.1.0 in c:\\users\\dvirl\\pycharmprojects\\semanticanalysis\\.venv\\lib\\site-packages (from spacy->-r ../resources/requirements.txt (line 9)) (0.4.1)\n",
      "Requirement already satisfied: typer<1.0.0,>=0.3.0 in c:\\users\\dvirl\\pycharmprojects\\semanticanalysis\\.venv\\lib\\site-packages (from spacy->-r ../resources/requirements.txt (line 9)) (0.16.0)\n",
      "Requirement already satisfied: requests<3.0.0,>=2.13.0 in c:\\users\\dvirl\\pycharmprojects\\semanticanalysis\\.venv\\lib\\site-packages (from spacy->-r ../resources/requirements.txt (line 9)) (2.32.4)\n",
      "Requirement already satisfied: pydantic!=1.8,!=1.8.1,<3.0.0,>=1.7.4 in c:\\users\\dvirl\\pycharmprojects\\semanticanalysis\\.venv\\lib\\site-packages (from spacy->-r ../resources/requirements.txt (line 9)) (2.11.7)\n",
      "Requirement already satisfied: jinja2 in c:\\users\\dvirl\\pycharmprojects\\semanticanalysis\\.venv\\lib\\site-packages (from spacy->-r ../resources/requirements.txt (line 9)) (3.1.6)\n",
      "Requirement already satisfied: setuptools in c:\\users\\dvirl\\pycharmprojects\\semanticanalysis\\.venv\\lib\\site-packages (from spacy->-r ../resources/requirements.txt (line 9)) (80.3.1)\n",
      "Requirement already satisfied: langcodes<4.0.0,>=3.2.0 in c:\\users\\dvirl\\pycharmprojects\\semanticanalysis\\.venv\\lib\\site-packages (from spacy->-r ../resources/requirements.txt (line 9)) (3.5.0)\n",
      "Requirement already satisfied: colorama in c:\\users\\dvirl\\pycharmprojects\\semanticanalysis\\.venv\\lib\\site-packages (from tqdm->-r ../resources/requirements.txt (line 10)) (0.4.6)\n",
      "Requirement already satisfied: language-data>=1.2 in c:\\users\\dvirl\\pycharmprojects\\semanticanalysis\\.venv\\lib\\site-packages (from langcodes<4.0.0,>=3.2.0->spacy->-r ../resources/requirements.txt (line 9)) (1.3.0)\n",
      "Requirement already satisfied: annotated-types>=0.6.0 in c:\\users\\dvirl\\pycharmprojects\\semanticanalysis\\.venv\\lib\\site-packages (from pydantic!=1.8,!=1.8.1,<3.0.0,>=1.7.4->spacy->-r ../resources/requirements.txt (line 9)) (0.7.0)\n",
      "Requirement already satisfied: pydantic-core==2.33.2 in c:\\users\\dvirl\\pycharmprojects\\semanticanalysis\\.venv\\lib\\site-packages (from pydantic!=1.8,!=1.8.1,<3.0.0,>=1.7.4->spacy->-r ../resources/requirements.txt (line 9)) (2.33.2)\n",
      "Requirement already satisfied: typing-extensions>=4.12.2 in c:\\users\\dvirl\\pycharmprojects\\semanticanalysis\\.venv\\lib\\site-packages (from pydantic!=1.8,!=1.8.1,<3.0.0,>=1.7.4->spacy->-r ../resources/requirements.txt (line 9)) (4.14.1)\n",
      "Requirement already satisfied: typing-inspection>=0.4.0 in c:\\users\\dvirl\\pycharmprojects\\semanticanalysis\\.venv\\lib\\site-packages (from pydantic!=1.8,!=1.8.1,<3.0.0,>=1.7.4->spacy->-r ../resources/requirements.txt (line 9)) (0.4.1)\n",
      "Requirement already satisfied: charset_normalizer<4,>=2 in c:\\users\\dvirl\\pycharmprojects\\semanticanalysis\\.venv\\lib\\site-packages (from requests<3.0.0,>=2.13.0->spacy->-r ../resources/requirements.txt (line 9)) (3.4.3)\n",
      "Requirement already satisfied: idna<4,>=2.5 in c:\\users\\dvirl\\pycharmprojects\\semanticanalysis\\.venv\\lib\\site-packages (from requests<3.0.0,>=2.13.0->spacy->-r ../resources/requirements.txt (line 9)) (3.10)\n",
      "Requirement already satisfied: urllib3<3,>=1.21.1 in c:\\users\\dvirl\\pycharmprojects\\semanticanalysis\\.venv\\lib\\site-packages (from requests<3.0.0,>=2.13.0->spacy->-r ../resources/requirements.txt (line 9)) (2.5.0)\n",
      "Requirement already satisfied: certifi>=2017.4.17 in c:\\users\\dvirl\\pycharmprojects\\semanticanalysis\\.venv\\lib\\site-packages (from requests<3.0.0,>=2.13.0->spacy->-r ../resources/requirements.txt (line 9)) (2025.8.3)\n",
      "Requirement already satisfied: blis<1.4.0,>=1.3.0 in c:\\users\\dvirl\\pycharmprojects\\semanticanalysis\\.venv\\lib\\site-packages (from thinc<8.4.0,>=8.3.4->spacy->-r ../resources/requirements.txt (line 9)) (1.3.0)\n",
      "Requirement already satisfied: confection<1.0.0,>=0.0.1 in c:\\users\\dvirl\\pycharmprojects\\semanticanalysis\\.venv\\lib\\site-packages (from thinc<8.4.0,>=8.3.4->spacy->-r ../resources/requirements.txt (line 9)) (0.1.5)\n",
      "Requirement already satisfied: shellingham>=1.3.0 in c:\\users\\dvirl\\pycharmprojects\\semanticanalysis\\.venv\\lib\\site-packages (from typer<1.0.0,>=0.3.0->spacy->-r ../resources/requirements.txt (line 9)) (1.5.4)\n",
      "Requirement already satisfied: rich>=10.11.0 in c:\\users\\dvirl\\pycharmprojects\\semanticanalysis\\.venv\\lib\\site-packages (from typer<1.0.0,>=0.3.0->spacy->-r ../resources/requirements.txt (line 9)) (14.1.0)\n",
      "Requirement already satisfied: cloudpathlib<1.0.0,>=0.7.0 in c:\\users\\dvirl\\pycharmprojects\\semanticanalysis\\.venv\\lib\\site-packages (from weasel<0.5.0,>=0.1.0->spacy->-r ../resources/requirements.txt (line 9)) (0.21.1)\n",
      "Requirement already satisfied: smart-open<8.0.0,>=5.2.1 in c:\\users\\dvirl\\pycharmprojects\\semanticanalysis\\.venv\\lib\\site-packages (from weasel<0.5.0,>=0.1.0->spacy->-r ../resources/requirements.txt (line 9)) (7.3.0.post1)\n",
      "Requirement already satisfied: wrapt in c:\\users\\dvirl\\pycharmprojects\\semanticanalysis\\.venv\\lib\\site-packages (from smart-open<8.0.0,>=5.2.1->weasel<0.5.0,>=0.1.0->spacy->-r ../resources/requirements.txt (line 9)) (1.17.2)\n",
      "Requirement already satisfied: threadpoolctl>=3.1.0 in c:\\users\\dvirl\\pycharmprojects\\semanticanalysis\\.venv\\lib\\site-packages (from scikit-learn->-r ../resources/requirements.txt (line 12)) (3.6.0)\n",
      "Requirement already satisfied: filelock in c:\\users\\dvirl\\pycharmprojects\\semanticanalysis\\.venv\\lib\\site-packages (from torch->-r ../resources/requirements.txt (line 14)) (3.18.0)\n",
      "Requirement already satisfied: sympy>=1.13.3 in c:\\users\\dvirl\\pycharmprojects\\semanticanalysis\\.venv\\lib\\site-packages (from torch->-r ../resources/requirements.txt (line 14)) (1.14.0)\n",
      "Requirement already satisfied: networkx in c:\\users\\dvirl\\pycharmprojects\\semanticanalysis\\.venv\\lib\\site-packages (from torch->-r ../resources/requirements.txt (line 14)) (3.5)\n",
      "Requirement already satisfied: fsspec in c:\\users\\dvirl\\pycharmprojects\\semanticanalysis\\.venv\\lib\\site-packages (from torch->-r ../resources/requirements.txt (line 14)) (2025.7.0)\n",
      "Requirement already satisfied: huggingface-hub<1.0,>=0.34.0 in c:\\users\\dvirl\\pycharmprojects\\semanticanalysis\\.venv\\lib\\site-packages (from transformers->-r ../resources/requirements.txt (line 15)) (0.34.4)\n",
      "Requirement already satisfied: pyyaml>=5.1 in c:\\users\\dvirl\\pycharmprojects\\semanticanalysis\\.venv\\lib\\site-packages (from transformers->-r ../resources/requirements.txt (line 15)) (6.0.2)\n",
      "Requirement already satisfied: tokenizers<0.22,>=0.21 in c:\\users\\dvirl\\pycharmprojects\\semanticanalysis\\.venv\\lib\\site-packages (from transformers->-r ../resources/requirements.txt (line 15)) (0.21.4)\n",
      "Requirement already satisfied: safetensors>=0.4.3 in c:\\users\\dvirl\\pycharmprojects\\semanticanalysis\\.venv\\lib\\site-packages (from transformers->-r ../resources/requirements.txt (line 15)) (0.6.2)\n",
      "Requirement already satisfied: marisa-trie>=1.1.0 in c:\\users\\dvirl\\pycharmprojects\\semanticanalysis\\.venv\\lib\\site-packages (from language-data>=1.2->langcodes<4.0.0,>=3.2.0->spacy->-r ../resources/requirements.txt (line 9)) (1.2.1)\n",
      "Requirement already satisfied: six>=1.5 in c:\\users\\dvirl\\pycharmprojects\\semanticanalysis\\.venv\\lib\\site-packages (from python-dateutil>=2.8.2->pandas->-r ../resources/requirements.txt (line 2)) (1.17.0)\n",
      "Requirement already satisfied: markdown-it-py>=2.2.0 in c:\\users\\dvirl\\pycharmprojects\\semanticanalysis\\.venv\\lib\\site-packages (from rich>=10.11.0->typer<1.0.0,>=0.3.0->spacy->-r ../resources/requirements.txt (line 9)) (4.0.0)\n",
      "Requirement already satisfied: pygments<3.0.0,>=2.13.0 in c:\\users\\dvirl\\pycharmprojects\\semanticanalysis\\.venv\\lib\\site-packages (from rich>=10.11.0->typer<1.0.0,>=0.3.0->spacy->-r ../resources/requirements.txt (line 9)) (2.19.2)\n",
      "Requirement already satisfied: mdurl~=0.1 in c:\\users\\dvirl\\pycharmprojects\\semanticanalysis\\.venv\\lib\\site-packages (from markdown-it-py>=2.2.0->rich>=10.11.0->typer<1.0.0,>=0.3.0->spacy->-r ../resources/requirements.txt (line 9)) (0.1.2)\n",
      "Requirement already satisfied: mpmath<1.4,>=1.1.0 in c:\\users\\dvirl\\pycharmprojects\\semanticanalysis\\.venv\\lib\\site-packages (from sympy>=1.13.3->torch->-r ../resources/requirements.txt (line 14)) (1.3.0)\n",
      "Requirement already satisfied: MarkupSafe>=2.0 in c:\\users\\dvirl\\pycharmprojects\\semanticanalysis\\.venv\\lib\\site-packages (from jinja2->spacy->-r ../resources/requirements.txt (line 9)) (3.0.2)\n"
     ]
    },
    {
     "name": "stderr",
     "output_type": "stream",
     "text": [
      "\n",
      "[notice] A new release of pip is available: 25.1.1 -> 25.2\n",
      "[notice] To update, run: python.exe -m pip install --upgrade pip\n"
     ]
    }
   ],
   "execution_count": 7
  },
  {
   "metadata": {
    "ExecuteTime": {
     "end_time": "2025-08-12T15:24:32.338635Z",
     "start_time": "2025-08-12T15:24:32.329865Z"
    }
   },
   "cell_type": "code",
   "source": [
    "import torch\n",
    "import torch.nn as nn\n",
    "import pandas as pd\n",
    "from transformers import AutoTokenizer, AutoModel"
   ],
   "id": "da6f73bbf093cd60",
   "outputs": [],
   "execution_count": 8
  },
  {
   "metadata": {
    "ExecuteTime": {
     "end_time": "2025-08-12T15:24:33.611246Z",
     "start_time": "2025-08-12T15:24:32.382570Z"
    }
   },
   "cell_type": "code",
   "source": [
    "\n",
    "# Step 1: Load tokenizer & model\n",
    "MODEL_NAME = \"indobenchmark/indobert-base-p1\"\n",
    "tokenizer = AutoTokenizer.from_pretrained(MODEL_NAME)\n",
    "hf_model = AutoModel.from_pretrained(MODEL_NAME)"
   ],
   "id": "638900632c1de83b",
   "outputs": [],
   "execution_count": 9
  },
  {
   "metadata": {
    "ExecuteTime": {
     "end_time": "2025-08-12T15:24:33.635448Z",
     "start_time": "2025-08-12T15:24:33.622681Z"
    }
   },
   "cell_type": "code",
   "source": [
    "\n",
    "# Freeze Hugging Face model parameters\n",
    "for param in hf_model.parameters():\n",
    "    param.requires_grad = False\n",
    "\n",
    "# Step 2: Define classifier\n",
    "class TweetClassifier(nn.Module):\n",
    "    def __init__(self, hf_model, hidden_size, num_classes):\n",
    "        super().__init__()\n",
    "        self.hf_model = hf_model\n",
    "        self.fc = nn.Sequential(\n",
    "            nn.Linear(hidden_size, 128),\n",
    "            nn.ReLU(),\n",
    "            nn.Dropout(0.3),\n",
    "            nn.Linear(128, num_classes)\n",
    "        )\n",
    "\n",
    "    def forward(self, input_ids, attention_mask):\n",
    "        outputs = self.hf_model(input_ids=input_ids, attention_mask=attention_mask)\n",
    "        cls_embedding = outputs.last_hidden_state[:, 0, :]  # [CLS] token\n",
    "        return self.fc(cls_embedding)"
   ],
   "id": "b6a74772c4536af7",
   "outputs": [],
   "execution_count": 10
  },
  {
   "metadata": {
    "ExecuteTime": {
     "end_time": "2025-08-12T15:24:33.721404Z",
     "start_time": "2025-08-12T15:24:33.670121Z"
    }
   },
   "cell_type": "code",
   "source": [
    "data = pd.read_csv('../resources/data/Twitter_Emotion_Dataset.csv')\n",
    "data"
   ],
   "id": "3745150f6ab74323",
   "outputs": [
    {
     "data": {
      "text/plain": [
       "        label                                              tweet\n",
       "0       anger  Soal jln Jatibaru,polisi tdk bs GERTAK gubernu...\n",
       "1       anger  Sesama cewe lho (kayaknya), harusnya bisa lebi...\n",
       "2       happy  Kepingin gudeg mbarek Bu hj. Amad Foto dari go...\n",
       "3       anger  Jln Jatibaru,bagian dari wilayah Tn Abang.Peng...\n",
       "4       happy  Sharing pengalaman aja, kemarin jam 18.00 bata...\n",
       "...       ...                                                ...\n",
       "4396     love  Tahukah kamu, bahwa saat itu papa memejamkan m...\n",
       "4397     fear  Sulitnya menetapkan Calon Wapresnya Jokowi di ...\n",
       "4398    anger  5. masa depannya nggak jelas. lha iya, gimana ...\n",
       "4399    happy  [USERNAME] dulu beneran ada mahasiswa Teknik U...\n",
       "4400  sadness  Ya Allah, hanya Engkau yang mengetahui rasa sa...\n",
       "\n",
       "[4401 rows x 2 columns]"
      ],
      "text/html": [
       "<div>\n",
       "<style scoped>\n",
       "    .dataframe tbody tr th:only-of-type {\n",
       "        vertical-align: middle;\n",
       "    }\n",
       "\n",
       "    .dataframe tbody tr th {\n",
       "        vertical-align: top;\n",
       "    }\n",
       "\n",
       "    .dataframe thead th {\n",
       "        text-align: right;\n",
       "    }\n",
       "</style>\n",
       "<table border=\"1\" class=\"dataframe\">\n",
       "  <thead>\n",
       "    <tr style=\"text-align: right;\">\n",
       "      <th></th>\n",
       "      <th>label</th>\n",
       "      <th>tweet</th>\n",
       "    </tr>\n",
       "  </thead>\n",
       "  <tbody>\n",
       "    <tr>\n",
       "      <th>0</th>\n",
       "      <td>anger</td>\n",
       "      <td>Soal jln Jatibaru,polisi tdk bs GERTAK gubernu...</td>\n",
       "    </tr>\n",
       "    <tr>\n",
       "      <th>1</th>\n",
       "      <td>anger</td>\n",
       "      <td>Sesama cewe lho (kayaknya), harusnya bisa lebi...</td>\n",
       "    </tr>\n",
       "    <tr>\n",
       "      <th>2</th>\n",
       "      <td>happy</td>\n",
       "      <td>Kepingin gudeg mbarek Bu hj. Amad Foto dari go...</td>\n",
       "    </tr>\n",
       "    <tr>\n",
       "      <th>3</th>\n",
       "      <td>anger</td>\n",
       "      <td>Jln Jatibaru,bagian dari wilayah Tn Abang.Peng...</td>\n",
       "    </tr>\n",
       "    <tr>\n",
       "      <th>4</th>\n",
       "      <td>happy</td>\n",
       "      <td>Sharing pengalaman aja, kemarin jam 18.00 bata...</td>\n",
       "    </tr>\n",
       "    <tr>\n",
       "      <th>...</th>\n",
       "      <td>...</td>\n",
       "      <td>...</td>\n",
       "    </tr>\n",
       "    <tr>\n",
       "      <th>4396</th>\n",
       "      <td>love</td>\n",
       "      <td>Tahukah kamu, bahwa saat itu papa memejamkan m...</td>\n",
       "    </tr>\n",
       "    <tr>\n",
       "      <th>4397</th>\n",
       "      <td>fear</td>\n",
       "      <td>Sulitnya menetapkan Calon Wapresnya Jokowi di ...</td>\n",
       "    </tr>\n",
       "    <tr>\n",
       "      <th>4398</th>\n",
       "      <td>anger</td>\n",
       "      <td>5. masa depannya nggak jelas. lha iya, gimana ...</td>\n",
       "    </tr>\n",
       "    <tr>\n",
       "      <th>4399</th>\n",
       "      <td>happy</td>\n",
       "      <td>[USERNAME] dulu beneran ada mahasiswa Teknik U...</td>\n",
       "    </tr>\n",
       "    <tr>\n",
       "      <th>4400</th>\n",
       "      <td>sadness</td>\n",
       "      <td>Ya Allah, hanya Engkau yang mengetahui rasa sa...</td>\n",
       "    </tr>\n",
       "  </tbody>\n",
       "</table>\n",
       "<p>4401 rows × 2 columns</p>\n",
       "</div>"
      ]
     },
     "execution_count": 11,
     "metadata": {},
     "output_type": "execute_result"
    }
   ],
   "execution_count": 11
  },
  {
   "metadata": {
    "jupyter": {
     "is_executing": true
    },
    "ExecuteTime": {
     "start_time": "2025-08-12T15:25:11.860129Z"
    }
   },
   "cell_type": "code",
   "source": [
    "\n",
    "# Step 3: Create model instance\n",
    "labels = data[\"label\"]\n",
    "num_classes = len(set(labels))  # example: positive, neutral, negative\n",
    "model = TweetClassifier(hf_model, hidden_size=768, num_classes=num_classes)\n",
    "\n",
    "# Step 4: Example data\n",
    "tweets = [\"Aku sangat senang hari ini\", \"Cuacanya buruk sekali\"]\n",
    "encodings = tokenizer(data[\"tweet\"].tolist(), truncation=True, padding=True, return_tensors=\"pt\")\n",
    "\n",
    "# Forward pass\n",
    "logits = model(encodings[\"input_ids\"], encodings[\"attention_mask\"])\n",
    "print(logits)\n",
    "\n",
    "criterion = nn.CrossEntropyLoss()\n",
    "optimizer = torch.optim.Adam(model.parameters(), lr=1e-3)\n",
    "y = torch.tensor(LabelEncoder().fit_transform(labels)) # labels\n",
    "for epoch in range(50):\n",
    "    optimizer.zero_grad()\n",
    "    outputs = model(encodings[\"input_ids\"], encodings[\"attention_mask\"])\n",
    "    loss = criterion(outputs, y)\n",
    "    loss.backward()\n",
    "    optimizer.step()\n",
    "    print(f'Epoch {epoch + 1}, Loss: {loss.item():.4f}')\n"
   ],
   "id": "43a7000df470ee2b",
   "outputs": [
    {
     "name": "stderr",
     "output_type": "stream",
     "text": [
      "Asking to truncate to max_length but no maximum length is provided and the model has no predefined maximum length. Default to no truncation.\n"
     ]
    }
   ],
   "execution_count": null
  },
  {
   "metadata": {},
   "cell_type": "code",
   "outputs": [],
   "execution_count": null,
   "source": "",
   "id": "fab2a7da145ebfaf"
  }
 ],
 "metadata": {
  "kernelspec": {
   "display_name": "Python 3",
   "language": "python",
   "name": "python3"
  },
  "language_info": {
   "codemirror_mode": {
    "name": "ipython",
    "version": 2
   },
   "file_extension": ".py",
   "mimetype": "text/x-python",
   "name": "python",
   "nbconvert_exporter": "python",
   "pygments_lexer": "ipython2",
   "version": "2.7.6"
  }
 },
 "nbformat": 4,
 "nbformat_minor": 5
}
