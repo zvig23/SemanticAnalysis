{
 "cells": [
  {
   "cell_type": "code",
   "id": "initial_id",
   "metadata": {
    "collapsed": true,
    "ExecuteTime": {
     "end_time": "2025-10-14T18:58:10.955828Z",
     "start_time": "2025-10-14T18:57:55.575870Z"
    }
   },
   "source": "!pip install PyDictionary\n",
   "outputs": [
    {
     "name": "stdout",
     "output_type": "stream",
     "text": [
      "Collecting PyDictionary\n",
      "  Downloading PyDictionary-2.0.1-py3-none-any.whl.metadata (4.0 kB)\n",
      "Collecting bs4 (from PyDictionary)\n",
      "  Downloading bs4-0.0.2-py2.py3-none-any.whl.metadata (411 bytes)\n",
      "Requirement already satisfied: click in c:\\users\\dvirl\\pycharmprojects\\semanticanalysis\\.venv\\lib\\site-packages (from PyDictionary) (8.2.1)\n",
      "Collecting goslate (from PyDictionary)\n",
      "  Downloading goslate-1.5.4.tar.gz (14 kB)\n",
      "  Preparing metadata (setup.py): started\n",
      "  Preparing metadata (setup.py): finished with status 'done'\n",
      "Requirement already satisfied: requests in c:\\users\\dvirl\\pycharmprojects\\semanticanalysis\\.venv\\lib\\site-packages (from PyDictionary) (2.32.4)\n",
      "Requirement already satisfied: beautifulsoup4 in c:\\users\\dvirl\\pycharmprojects\\semanticanalysis\\.venv\\lib\\site-packages (from bs4->PyDictionary) (4.13.4)\n",
      "Requirement already satisfied: soupsieve>1.2 in c:\\users\\dvirl\\pycharmprojects\\semanticanalysis\\.venv\\lib\\site-packages (from beautifulsoup4->bs4->PyDictionary) (2.7)\n",
      "Requirement already satisfied: typing-extensions>=4.0.0 in c:\\users\\dvirl\\pycharmprojects\\semanticanalysis\\.venv\\lib\\site-packages (from beautifulsoup4->bs4->PyDictionary) (4.14.1)\n",
      "Requirement already satisfied: colorama in c:\\users\\dvirl\\pycharmprojects\\semanticanalysis\\.venv\\lib\\site-packages (from click->PyDictionary) (0.4.6)\n",
      "Collecting futures (from goslate->PyDictionary)\n",
      "  Downloading futures-3.0.5.tar.gz (25 kB)\n",
      "  Preparing metadata (setup.py): started\n",
      "  Preparing metadata (setup.py): finished with status 'done'\n",
      "Requirement already satisfied: charset_normalizer<4,>=2 in c:\\users\\dvirl\\pycharmprojects\\semanticanalysis\\.venv\\lib\\site-packages (from requests->PyDictionary) (3.4.3)\n",
      "Requirement already satisfied: idna<4,>=2.5 in c:\\users\\dvirl\\pycharmprojects\\semanticanalysis\\.venv\\lib\\site-packages (from requests->PyDictionary) (3.10)\n",
      "Requirement already satisfied: urllib3<3,>=1.21.1 in c:\\users\\dvirl\\pycharmprojects\\semanticanalysis\\.venv\\lib\\site-packages (from requests->PyDictionary) (2.5.0)\n",
      "Requirement already satisfied: certifi>=2017.4.17 in c:\\users\\dvirl\\pycharmprojects\\semanticanalysis\\.venv\\lib\\site-packages (from requests->PyDictionary) (2025.8.3)\n",
      "Downloading PyDictionary-2.0.1-py3-none-any.whl (6.1 kB)\n",
      "Downloading bs4-0.0.2-py2.py3-none-any.whl (1.2 kB)\n",
      "Building wheels for collected packages: goslate, futures\n",
      "  Building wheel for goslate (setup.py): started\n",
      "  Building wheel for goslate (setup.py): finished with status 'done'\n",
      "  Created wheel for goslate: filename=goslate-1.5.4-py3-none-any.whl size=11673 sha256=41c64da60edde36d55879a653c3b7952caac3065ba150a542f58860b62129848\n",
      "  Stored in directory: c:\\users\\dvirl\\appdata\\local\\pip\\cache\\wheels\\b6\\48\\7a\\e7458e7a110a5525687dd17a52d3e42c157a8d22a2c4d5e840\n",
      "  Building wheel for futures (setup.py): started\n",
      "  Building wheel for futures (setup.py): finished with status 'done'\n",
      "  Created wheel for futures: filename=futures-3.0.5-py3-none-any.whl size=14156 sha256=783eb197039b707a665498960584eaec3d7768a4545672f7b84102ffb709acf8\n",
      "  Stored in directory: c:\\users\\dvirl\\appdata\\local\\pip\\cache\\wheels\\66\\cb\\37\\51fe32ecb9068869196ce81111bdfe82e6ecb53c889362f81b\n",
      "Successfully built goslate futures\n",
      "Installing collected packages: futures, goslate, bs4, PyDictionary\n",
      "\n",
      "   ------------------------------ --------- 3/4 [PyDictionary]\n",
      "   ---------------------------------------- 4/4 [PyDictionary]\n",
      "\n",
      "Successfully installed PyDictionary-2.0.1 bs4-0.0.2 futures-3.0.5 goslate-1.5.4\n"
     ]
    },
    {
     "name": "stderr",
     "output_type": "stream",
     "text": [
      "  DEPRECATION: Building 'goslate' using the legacy setup.py bdist_wheel mechanism, which will be removed in a future version. pip 25.3 will enforce this behaviour change. A possible replacement is to use the standardized build interface by setting the `--use-pep517` option, (possibly combined with `--no-build-isolation`), or adding a `pyproject.toml` file to the source tree of 'goslate'. Discussion can be found at https://github.com/pypa/pip/issues/6334\n",
      "  DEPRECATION: Building 'futures' using the legacy setup.py bdist_wheel mechanism, which will be removed in a future version. pip 25.3 will enforce this behaviour change. A possible replacement is to use the standardized build interface by setting the `--use-pep517` option, (possibly combined with `--no-build-isolation`), or adding a `pyproject.toml` file to the source tree of 'futures'. Discussion can be found at https://github.com/pypa/pip/issues/6334\n",
      "\n",
      "[notice] A new release of pip is available: 25.1.1 -> 25.2\n",
      "[notice] To update, run: python.exe -m pip install --upgrade pip\n"
     ]
    }
   ],
   "execution_count": 1
  },
  {
   "metadata": {
    "ExecuteTime": {
     "end_time": "2025-10-14T19:05:51.886196Z",
     "start_time": "2025-10-14T19:05:50.700761Z"
    }
   },
   "cell_type": "code",
   "source": [
    "import nltk\n",
    "nltk.download('wordnet')\n",
    "nltk.download('omw-1.4')"
   ],
   "id": "8ca41686ef7895f3",
   "outputs": [
    {
     "name": "stderr",
     "output_type": "stream",
     "text": [
      "[nltk_data] Downloading package wordnet to\n",
      "[nltk_data]     C:\\Users\\dvirl\\AppData\\Roaming\\nltk_data...\n",
      "[nltk_data]   Package wordnet is already up-to-date!\n",
      "[nltk_data] Downloading package omw-1.4 to\n",
      "[nltk_data]     C:\\Users\\dvirl\\AppData\\Roaming\\nltk_data...\n"
     ]
    },
    {
     "data": {
      "text/plain": [
       "True"
      ]
     },
     "execution_count": 12,
     "metadata": {},
     "output_type": "execute_result"
    }
   ],
   "execution_count": 12
  },
  {
   "metadata": {
    "ExecuteTime": {
     "end_time": "2025-10-14T19:05:53.527167Z",
     "start_time": "2025-10-14T19:05:53.290710Z"
    }
   },
   "cell_type": "code",
   "source": [
    "from nltk.corpus import wordnet\n",
    "\n",
    "synonyms = []\n",
    "\n",
    "for syn in wordnet.synsets(\"MAKANAN\", lang=\"id\"):\n",
    "    for i in syn.lemmas():\n",
    "        synonyms.append(i.name())\n",
    "\n",
    "print(set(synonyms))"
   ],
   "id": "c0ee46bbdd727d5c",
   "outputs": [
    {
     "ename": "WordNetError",
     "evalue": "Language is not supported.",
     "output_type": "error",
     "traceback": [
      "\u001B[31m---------------------------------------------------------------------------\u001B[39m",
      "\u001B[31mWordNetError\u001B[39m                              Traceback (most recent call last)",
      "\u001B[36mCell\u001B[39m\u001B[36m \u001B[39m\u001B[32mIn[13]\u001B[39m\u001B[32m, line 5\u001B[39m\n\u001B[32m      1\u001B[39m \u001B[38;5;28;01mfrom\u001B[39;00m\u001B[38;5;250m \u001B[39m\u001B[34;01mnltk\u001B[39;00m\u001B[34;01m.\u001B[39;00m\u001B[34;01mcorpus\u001B[39;00m\u001B[38;5;250m \u001B[39m\u001B[38;5;28;01mimport\u001B[39;00m wordnet\n\u001B[32m      3\u001B[39m synonyms = []\n\u001B[32m----> \u001B[39m\u001B[32m5\u001B[39m \u001B[38;5;28;01mfor\u001B[39;00m syn \u001B[38;5;129;01min\u001B[39;00m \u001B[43mwordnet\u001B[49m\u001B[43m.\u001B[49m\u001B[43msynsets\u001B[49m\u001B[43m(\u001B[49m\u001B[33;43m\"\u001B[39;49m\u001B[33;43mMAKANAN\u001B[39;49m\u001B[33;43m\"\u001B[39;49m\u001B[43m,\u001B[49m\u001B[43m \u001B[49m\u001B[43mlang\u001B[49m\u001B[43m=\u001B[49m\u001B[33;43m\"\u001B[39;49m\u001B[33;43mid\u001B[39;49m\u001B[33;43m\"\u001B[39;49m\u001B[43m)\u001B[49m:\n\u001B[32m      6\u001B[39m     \u001B[38;5;28;01mfor\u001B[39;00m i \u001B[38;5;129;01min\u001B[39;00m syn.lemmas():\n\u001B[32m      7\u001B[39m         synonyms.append(i.name())\n",
      "\u001B[36mFile \u001B[39m\u001B[32m~\\PycharmProjects\\SemanticAnalysis\\.venv\\Lib\\site-packages\\nltk\\corpus\\reader\\wordnet.py:1780\u001B[39m, in \u001B[36mWordNetCorpusReader.synsets\u001B[39m\u001B[34m(self, lemma, pos, lang, check_exceptions)\u001B[39m\n\u001B[32m   1772\u001B[39m     \u001B[38;5;28;01mreturn\u001B[39;00m [\n\u001B[32m   1773\u001B[39m         get_synset(p, offset)\n\u001B[32m   1774\u001B[39m         \u001B[38;5;28;01mfor\u001B[39;00m p \u001B[38;5;129;01min\u001B[39;00m pos\n\u001B[32m   1775\u001B[39m         \u001B[38;5;28;01mfor\u001B[39;00m form \u001B[38;5;129;01min\u001B[39;00m \u001B[38;5;28mself\u001B[39m._morphy(lemma, p, check_exceptions)\n\u001B[32m   1776\u001B[39m         \u001B[38;5;28;01mfor\u001B[39;00m offset \u001B[38;5;129;01min\u001B[39;00m index[form].get(p, [])\n\u001B[32m   1777\u001B[39m     ]\n\u001B[32m   1779\u001B[39m \u001B[38;5;28;01melse\u001B[39;00m:\n\u001B[32m-> \u001B[39m\u001B[32m1780\u001B[39m     \u001B[38;5;28;43mself\u001B[39;49m\u001B[43m.\u001B[49m\u001B[43m_load_lang_data\u001B[49m\u001B[43m(\u001B[49m\u001B[43mlang\u001B[49m\u001B[43m)\u001B[49m\n\u001B[32m   1781\u001B[39m     synset_list = []\n\u001B[32m   1782\u001B[39m     \u001B[38;5;28;01mif\u001B[39;00m lemma \u001B[38;5;129;01min\u001B[39;00m \u001B[38;5;28mself\u001B[39m._lang_data[lang][\u001B[32m1\u001B[39m]:\n",
      "\u001B[36mFile \u001B[39m\u001B[32m~\\PycharmProjects\\SemanticAnalysis\\.venv\\Lib\\site-packages\\nltk\\corpus\\reader\\wordnet.py:1323\u001B[39m, in \u001B[36mWordNetCorpusReader._load_lang_data\u001B[39m\u001B[34m(self, lang)\u001B[39m\n\u001B[32m   1320\u001B[39m     \u001B[38;5;28mself\u001B[39m.add_omw()\n\u001B[32m   1322\u001B[39m \u001B[38;5;28;01mif\u001B[39;00m lang \u001B[38;5;129;01mnot\u001B[39;00m \u001B[38;5;129;01min\u001B[39;00m \u001B[38;5;28mself\u001B[39m.langs():\n\u001B[32m-> \u001B[39m\u001B[32m1323\u001B[39m     \u001B[38;5;28;01mraise\u001B[39;00m WordNetError(\u001B[33m\"\u001B[39m\u001B[33mLanguage is not supported.\u001B[39m\u001B[33m\"\u001B[39m)\n\u001B[32m   1325\u001B[39m \u001B[38;5;28;01mif\u001B[39;00m \u001B[38;5;28mself\u001B[39m._exomw_reader \u001B[38;5;129;01mand\u001B[39;00m lang \u001B[38;5;129;01mnot\u001B[39;00m \u001B[38;5;129;01min\u001B[39;00m \u001B[38;5;28mself\u001B[39m.omw_langs:\n\u001B[32m   1326\u001B[39m     reader = \u001B[38;5;28mself\u001B[39m._exomw_reader\n",
      "\u001B[31mWordNetError\u001B[39m: Language is not supported."
     ]
    }
   ],
   "execution_count": 13
  },
  {
   "metadata": {},
   "cell_type": "code",
   "outputs": [],
   "execution_count": null,
   "source": "",
   "id": "ae75e1921927117d"
  }
 ],
 "metadata": {
  "kernelspec": {
   "display_name": "Python 3",
   "language": "python",
   "name": "python3"
  },
  "language_info": {
   "codemirror_mode": {
    "name": "ipython",
    "version": 2
   },
   "file_extension": ".py",
   "mimetype": "text/x-python",
   "name": "python",
   "nbconvert_exporter": "python",
   "pygments_lexer": "ipython2",
   "version": "2.7.6"
  }
 },
 "nbformat": 4,
 "nbformat_minor": 5
}
