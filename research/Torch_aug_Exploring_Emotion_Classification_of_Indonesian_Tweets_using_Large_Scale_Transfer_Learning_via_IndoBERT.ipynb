{
  "cells": [
    {
      "cell_type": "code",
      "execution_count": 94,
      "metadata": {
        "id": "ezERtzrw0fe4",
        "colab": {
          "base_uri": "https://localhost:8080/"
        },
        "outputId": "b5fc856f-c277-4d43-91a3-e4d4477aab31"
      },
      "outputs": [
        {
          "output_type": "stream",
          "name": "stderr",
          "text": [
            "[nltk_data] Downloading package stopwords to /root/nltk_data...\n",
            "[nltk_data]   Package stopwords is already up-to-date!\n"
          ]
        },
        {
          "output_type": "execute_result",
          "data": {
            "text/plain": [
              "True"
            ]
          },
          "metadata": {},
          "execution_count": 94
        }
      ],
      "source": [
        "import pandas as pd\n",
        "import torch\n",
        "from torch.utils.data import DataLoader, Dataset, random_split\n",
        "from transformers import AutoTokenizer\n",
        "from sklearn.metrics import accuracy_score, f1_score\n",
        "import os\n",
        "from nltk.corpus import stopwords\n",
        "import torch\n",
        "import torch.nn as nn\n",
        "from transformers import AutoModel\n",
        "import random\n",
        "from tqdm import tqdm\n",
        "import re\n",
        "import string\n",
        "import nltk\n",
        "nltk.download('stopwords')"
      ]
    },
    {
      "cell_type": "code",
      "execution_count": 95,
      "metadata": {
        "id": "KrGqs7Yc0kCi"
      },
      "outputs": [],
      "source": [
        "\n",
        "# ------------------------------\n",
        "# Config\n",
        "# ------------------------------\n",
        "MODEL_NAME = \"indolem/indobertweet-base-uncased\"\n",
        "LABEL2INDEX = {'love': 0, 'anger': 1, 'sadness': 2, 'happy': 3, 'fear': 4}\n",
        "INDEX2LABEL = {v: k for k, v in LABEL2INDEX.items()}\n",
        "NUM_LABELS = len(LABEL2INDEX)\n",
        "MAX_LEN = 128\n",
        "BATCH_SIZE = 64\n",
        "EPOCHS = 25\n",
        "LR = 2e-5\n",
        "DEVICE = torch.device(\"cuda\" if torch.cuda.is_available() else \"cpu\")\n",
        "AUG_FRAC=0.2\n",
        "indo_stop_words = stopwords.words(fileids='indonesian')\n",
        "indo_stop_words.append(\"[USERNAME]\")\n",
        "indo_stop_words.append(\"url\")"
      ]
    },
    {
      "cell_type": "code",
      "execution_count": 96,
      "metadata": {
        "id": "04W7XNTN0x0w"
      },
      "outputs": [],
      "source": [
        "\n",
        "\n",
        "# ------------------------------\n",
        "# Dataset Class\n",
        "# ------------------------------\n",
        "class TweetDataset(Dataset):\n",
        "    def __init__(self, texts, labels, tokenizer, max_len=MAX_LEN):\n",
        "        self.texts = texts\n",
        "        self.labels = labels\n",
        "        self.tokenizer = tokenizer\n",
        "        self.max_len = max_len\n",
        "\n",
        "    def __len__(self):\n",
        "        return len(self.texts)\n",
        "\n",
        "    def __getitem__(self, idx):\n",
        "        encoding = self.tokenizer(\n",
        "            self.texts[idx],\n",
        "            truncation=True,\n",
        "            padding=\"max_length\",\n",
        "            max_length=self.max_len,\n",
        "            return_tensors=\"pt\"\n",
        "        )\n",
        "        return {\n",
        "            \"input_ids\": encoding[\"input_ids\"].squeeze(0),\n",
        "            \"attention_mask\": encoding[\"attention_mask\"].squeeze(0),\n",
        "            \"labels\": torch.tensor(self.labels[idx], dtype=torch.long)\n",
        "        }\n",
        "\n"
      ]
    },
    {
      "cell_type": "code",
      "execution_count": 97,
      "metadata": {
        "id": "dN0-eod20zUY"
      },
      "outputs": [],
      "source": [
        "\n",
        "class IndoBertClassifier(nn.Module):\n",
        "    def __init__(self, model_name=MODEL_NAME,\n",
        "                 dense_1=64, dense_2=16, dropout=0.05, num_labels=5):\n",
        "        super(IndoBertClassifier, self).__init__()\n",
        "        self.bert = AutoModel.from_pretrained(model_name)\n",
        "        hidden_size = self.bert.config.hidden_size\n",
        "\n",
        "        # Layers according to your Keras architecture\n",
        "        self.pool = nn.AdaptiveMaxPool1d(1)   # GlobalMaxPool1D equivalent\n",
        "        self.fc1 = nn.Linear(hidden_size, dense_1)\n",
        "        self.drop1 = nn.Dropout(dropout)\n",
        "        self.fc2 = nn.Linear(dense_1, dense_2)\n",
        "        self.fc3 = nn.Linear(dense_2, num_labels)\n",
        "        self.act_relu = nn.ReLU()\n",
        "        self.act_sigmoid = nn.Sigmoid()       # multi-label case\n",
        "\n",
        "    def forward(self, input_ids, attention_mask):\n",
        "        outputs = self.bert(input_ids=input_ids, attention_mask=attention_mask)\n",
        "        embeddings = outputs.last_hidden_state  # shape: (batch, seq_len, hidden)\n",
        "\n",
        "        # PyTorch pooling works on (N, C, L), so permute first\n",
        "        x = embeddings.permute(0, 2, 1)        # (batch, hidden, seq_len)\n",
        "        x = self.pool(x).squeeze(-1)           # (batch, hidden)\n",
        "\n",
        "        x = self.fc1(x)\n",
        "        x = self.act_relu(x)\n",
        "        x = self.drop1(x)\n",
        "\n",
        "        x = self.fc2(x)\n",
        "        x = self.act_relu(x)\n",
        "\n",
        "        logits = self.fc3(x)\n",
        "        out = self.act_sigmoid(logits)\n",
        "        return out\n"
      ]
    },
    {
      "cell_type": "code",
      "execution_count": 98,
      "metadata": {
        "id": "wiuyutkv01EO"
      },
      "outputs": [],
      "source": [
        "\n",
        "# ------------------------------\n",
        "# Training & Evaluation Functions\n",
        "# ------------------------------\n",
        "def train_one_epoch(model, dataloader, optimizer, criterion):\n",
        "    model.train()\n",
        "    total_loss = 0\n",
        "    all_preds, all_labels = [], []\n",
        "\n",
        "    for batch in dataloader:\n",
        "        input_ids = batch[\"input_ids\"].to(DEVICE)\n",
        "        attention_mask = batch[\"attention_mask\"].to(DEVICE)\n",
        "        labels = batch[\"labels\"].to(DEVICE)\n",
        "\n",
        "        optimizer.zero_grad()\n",
        "        logits = model(input_ids, attention_mask)\n",
        "        loss = criterion(logits, labels)\n",
        "        loss.backward()\n",
        "        optimizer.step()\n",
        "\n",
        "        total_loss += loss.item()\n",
        "\n",
        "        preds = torch.argmax(logits, dim=1).cpu().numpy()\n",
        "        all_preds.extend(preds)\n",
        "        all_labels.extend(labels.cpu().numpy())\n",
        "\n",
        "    acc = accuracy_score(all_labels, all_preds)\n",
        "    f1 = f1_score(all_labels, all_preds, average=\"weighted\")\n",
        "    return total_loss / len(dataloader), acc, f1\n"
      ]
    },
    {
      "cell_type": "code",
      "execution_count": 99,
      "metadata": {
        "id": "WlDgDFmF02fX"
      },
      "outputs": [],
      "source": [
        "\n",
        "\n",
        "def evaluate(model, dataloader, criterion):\n",
        "    model.eval()\n",
        "    total_loss = 0\n",
        "    all_preds, all_labels = [], []\n",
        "\n",
        "    with torch.no_grad():\n",
        "        for batch in dataloader:\n",
        "            input_ids = batch[\"input_ids\"].to(DEVICE)\n",
        "            attention_mask = batch[\"attention_mask\"].to(DEVICE)\n",
        "            labels = batch[\"labels\"].to(DEVICE)\n",
        "\n",
        "            logits = model(input_ids, attention_mask)\n",
        "            loss = criterion(logits, labels)\n",
        "            total_loss += loss.item()\n",
        "\n",
        "            preds = torch.argmax(logits, dim=1).cpu().numpy()\n",
        "            all_preds.extend(preds)\n",
        "            all_labels.extend(labels.cpu().numpy())\n",
        "\n",
        "    acc = accuracy_score(all_labels, all_preds)\n",
        "    f1 = f1_score(all_labels, all_preds, average=\"weighted\")\n",
        "    return total_loss / len(dataloader), acc, f1\n"
      ]
    },
    {
      "cell_type": "code",
      "source": [
        "def random_deletion(words, p=0.2):\n",
        "    \"\"\" Randomly delete words with probability p \"\"\"\n",
        "    if len(words) == 1:\n",
        "        return words\n",
        "    return [w for w in words if random.uniform(0, 1) > p]\n",
        "\n",
        "\n",
        "def random_swap(words, n=1):\n",
        "    \"\"\" Swap two words n times \"\"\"\n",
        "    words = words.copy()\n",
        "    for _ in range(n):\n",
        "        idx1, idx2 = random.sample(range(len(words)), 2)\n",
        "        words[idx1], words[idx2] = words[idx2], words[idx1]\n",
        "    return words\n",
        "\n",
        "\n",
        "def random_insertion(words, n=1):\n",
        "    \"\"\" Insert a random word from the sentence into a random position \"\"\"\n",
        "    words = words.copy()\n",
        "    for _ in range(n):\n",
        "        new_word = random.choice(words)\n",
        "        insert_pos = random.randint(0, len(words))\n",
        "        words.insert(insert_pos, new_word)\n",
        "    return words\n",
        "\n",
        "\n",
        "def augment_text(text):\n",
        "    words = text.split()\n",
        "    choice = random.choice(['delete', 'swap', 'insert'])\n",
        "\n",
        "    if choice == 'delete':\n",
        "        aug_words = random_deletion(words)\n",
        "    elif choice == 'swap':\n",
        "        aug_words = random_swap(words)\n",
        "    elif choice == 'insert':\n",
        "        aug_words = random_insertion(words)\n",
        "\n",
        "    return \" \".join(aug_words)\n"
      ],
      "metadata": {
        "id": "Afg8bOaQP00p"
      },
      "execution_count": 100,
      "outputs": []
    },
    {
      "cell_type": "code",
      "source": [
        "def augment_dataset(df, text_col=\"tweet\", label_col=\"label\", frac=0.1):\n",
        "    \"\"\"\n",
        "    Augment a fraction of dataset rows and return a bigger dataset\n",
        "    \"\"\"\n",
        "    # sample rows for augmentation\n",
        "    sampled = df.sample(frac=frac, random_state=42)\n",
        "\n",
        "    augmented_texts = []\n",
        "    augmented_labels = []\n",
        "\n",
        "    for _, row in tqdm(sampled.iterrows()):\n",
        "        aug_text = augment_text(row[text_col])  # from previous code\n",
        "        augmented_texts.append(aug_text)\n",
        "        augmented_labels.append(row[label_col])\n",
        "\n",
        "    # make augmented dataframe\n",
        "    df_aug = pd.DataFrame({text_col: augmented_texts, label_col: augmented_labels})\n",
        "\n",
        "    # concatenate with original\n",
        "    df_new = pd.concat([df, df_aug], ignore_index=True)\n",
        "    return df_new\n"
      ],
      "metadata": {
        "id": "vbGjviQ6PovT"
      },
      "execution_count": 101,
      "outputs": []
    },
    {
      "cell_type": "code",
      "source": [
        "def clean_text(text):\n",
        "    '''Make text lowercase, remove text in square brackets,remove links,remove punctuation\n",
        "    and remove words containing numbers.'''\n",
        "    text = str(text).lower()\n",
        "    text = re.sub('\\[.*?\\]', '', text)\n",
        "    text = re.sub('https?://\\S+|www\\.\\S+', '', text)\n",
        "    text = re.sub('https?://\\S+|www\\.\\S+', '', text)\n",
        "    text = re.sub('<.*?>+', '', text)\n",
        "    text = re.sub('[%s]' % re.escape(string.punctuation), '', text)\n",
        "    text = re.sub('\\n', '', text)\n",
        "    text = re.sub('\\w*\\d\\w*', '', text)\n",
        "    text = \" \".join([y for y in text.split() if y not in indo_stop_words])\n",
        "    return text\n"
      ],
      "metadata": {
        "colab": {
          "base_uri": "https://localhost:8080/"
        },
        "id": "Z1befXqRQLxX",
        "outputId": "82fc8233-8a26-47fb-b545-4affb781efb7"
      },
      "execution_count": 102,
      "outputs": [
        {
          "output_type": "stream",
          "name": "stderr",
          "text": [
            "<>:5: SyntaxWarning: invalid escape sequence '\\['\n",
            "<>:6: SyntaxWarning: invalid escape sequence '\\S'\n",
            "<>:7: SyntaxWarning: invalid escape sequence '\\S'\n",
            "<>:11: SyntaxWarning: invalid escape sequence '\\w'\n",
            "<>:5: SyntaxWarning: invalid escape sequence '\\['\n",
            "<>:6: SyntaxWarning: invalid escape sequence '\\S'\n",
            "<>:7: SyntaxWarning: invalid escape sequence '\\S'\n",
            "<>:11: SyntaxWarning: invalid escape sequence '\\w'\n",
            "/tmp/ipython-input-375946857.py:5: SyntaxWarning: invalid escape sequence '\\['\n",
            "  text = re.sub('\\[.*?\\]', '', text)\n",
            "/tmp/ipython-input-375946857.py:6: SyntaxWarning: invalid escape sequence '\\S'\n",
            "  text = re.sub('https?://\\S+|www\\.\\S+', '', text)\n",
            "/tmp/ipython-input-375946857.py:7: SyntaxWarning: invalid escape sequence '\\S'\n",
            "  text = re.sub('https?://\\S+|www\\.\\S+', '', text)\n",
            "/tmp/ipython-input-375946857.py:11: SyntaxWarning: invalid escape sequence '\\w'\n",
            "  text = re.sub('\\w*\\d\\w*', '', text)\n"
          ]
        }
      ]
    },
    {
      "cell_type": "code",
      "source": [
        "    # Load tokenizer\n",
        "    tokenizer = AutoTokenizer.from_pretrained(MODEL_NAME)\n",
        "\n",
        "    # Read dataset (must have \"text\" and \"label\" columns)\n",
        "    df = pd.read_csv(\"Twitter_Emotion_Dataset.csv\")\n",
        "    # df['tweet'] = df['tweet'].apply(lambda x: clean_text(x))\n",
        "    df = augment_dataset(df, frac=AUG_FRAC)\n",
        "    df[\"label\"] = df[\"label\"].map(LABEL2INDEX)\n",
        "\n",
        "    texts = df[\"tweet\"].tolist()\n",
        "    labels = df[\"label\"].tolist()\n",
        "\n",
        "    dataset = TweetDataset(texts, labels, tokenizer)\n"
      ],
      "metadata": {
        "colab": {
          "base_uri": "https://localhost:8080/"
        },
        "id": "lcglfCERRo8h",
        "outputId": "e8914d4c-db9d-4249-9733-c5d14c3c96cb"
      },
      "execution_count": 103,
      "outputs": [
        {
          "output_type": "stream",
          "name": "stderr",
          "text": [
            "880it [00:00, 19238.42it/s]\n"
          ]
        }
      ]
    },
    {
      "cell_type": "code",
      "source": [
        "    # Split into train/val (80/20)\n",
        "    train_size = int(0.8 * len(dataset))\n",
        "    val_size = len(dataset) - train_size\n",
        "    train_dataset, val_dataset = random_split(dataset, [train_size, val_size])\n",
        "    train_loader = DataLoader(train_dataset, batch_size=BATCH_SIZE, shuffle=True)\n",
        "    val_loader = DataLoader(val_dataset, batch_size=BATCH_SIZE)"
      ],
      "metadata": {
        "id": "Fjgv4moKRrbg"
      },
      "execution_count": 104,
      "outputs": []
    },
    {
      "cell_type": "code",
      "source": [
        "    # Model, Loss, Optimizer\n",
        "    model = IndoBertClassifier().to(DEVICE)\n",
        "    criterion = nn.CrossEntropyLoss()\n",
        "    optimizer = torch.optim.AdamW(model.parameters(), lr=LR)"
      ],
      "metadata": {
        "id": "2pvOx-rqRw25"
      },
      "execution_count": 105,
      "outputs": []
    },
    {
      "cell_type": "code",
      "source": [
        "    # Training Loop\n",
        "    for epoch in range(EPOCHS):\n",
        "        train_loss, train_acc, train_f1 = train_one_epoch(model, train_loader, optimizer, criterion)\n",
        "        val_loss, val_acc, val_f1 = evaluate(model, val_loader, criterion)\n",
        "\n",
        "        print(f\"Epoch {epoch+1}/{EPOCHS}\")\n",
        "        print(f\"  Train Loss: {train_loss:.4f} | Acc: {train_acc:.4f} | F1: {train_f1:.4f}\")\n",
        "        print(f\"  Val   Loss: {val_loss:.4f} | Acc: {val_acc:.4f} | F1: {val_f1:.4f}\")\n",
        "\n",
        "    # Save Model\n",
        "    os.makedirs(\"saved_model\", exist_ok=True)\n",
        "    torch.save(model.state_dict(), \"saved_model/indobert_tweet_classifier.pt\")\n",
        "    print(\"Model saved to saved_model/indobert_tweet_classifier.pt\")\n"
      ],
      "metadata": {
        "colab": {
          "base_uri": "https://localhost:8080/"
        },
        "id": "-0VPBP61Ryqi",
        "outputId": "15ef9036-87b4-4c85-c255-fe7bf59750c1"
      },
      "execution_count": null,
      "outputs": [
        {
          "output_type": "stream",
          "name": "stdout",
          "text": [
            "Epoch 1/25\n",
            "  Train Loss: 1.5781 | Acc: 0.3411 | F1: 0.2297\n",
            "  Val   Loss: 1.5263 | Acc: 0.4437 | F1: 0.3162\n",
            "Epoch 2/25\n",
            "  Train Loss: 1.4438 | Acc: 0.5175 | F1: 0.4026\n",
            "  Val   Loss: 1.3820 | Acc: 0.5771 | F1: 0.4741\n",
            "Epoch 3/25\n",
            "  Train Loss: 1.3336 | Acc: 0.6371 | F1: 0.5652\n",
            "  Val   Loss: 1.3196 | Acc: 0.6821 | F1: 0.6554\n",
            "Epoch 4/25\n",
            "  Train Loss: 1.2527 | Acc: 0.7940 | F1: 0.7823\n",
            "  Val   Loss: 1.2590 | Acc: 0.8004 | F1: 0.8003\n",
            "Epoch 5/25\n",
            "  Train Loss: 1.1779 | Acc: 0.8589 | F1: 0.8537\n",
            "  Val   Loss: 1.2178 | Acc: 0.8127 | F1: 0.8133\n",
            "Epoch 6/25\n",
            "  Train Loss: 1.1199 | Acc: 0.8878 | F1: 0.8825\n",
            "  Val   Loss: 1.1942 | Acc: 0.8108 | F1: 0.8132\n",
            "Epoch 7/25\n",
            "  Train Loss: 1.0794 | Acc: 0.9053 | F1: 0.9015\n",
            "  Val   Loss: 1.1693 | Acc: 0.8136 | F1: 0.8153\n",
            "Epoch 8/25\n",
            "  Train Loss: 1.0506 | Acc: 0.9200 | F1: 0.9168\n",
            "  Val   Loss: 1.1521 | Acc: 0.8250 | F1: 0.8258\n",
            "Epoch 9/25\n",
            "  Train Loss: 1.0296 | Acc: 0.9292 | F1: 0.9267\n",
            "  Val   Loss: 1.1446 | Acc: 0.8136 | F1: 0.8162\n",
            "Epoch 10/25\n",
            "  Train Loss: 1.0140 | Acc: 0.9448 | F1: 0.9437\n",
            "  Val   Loss: 1.1247 | Acc: 0.8401 | F1: 0.8405\n",
            "Epoch 11/25\n",
            "  Train Loss: 1.0003 | Acc: 0.9557 | F1: 0.9552\n",
            "  Val   Loss: 1.1263 | Acc: 0.8193 | F1: 0.8217\n",
            "Epoch 12/25\n",
            "  Train Loss: 0.9844 | Acc: 0.9676 | F1: 0.9674\n",
            "  Val   Loss: 1.1078 | Acc: 0.8382 | F1: 0.8376\n",
            "Epoch 13/25\n",
            "  Train Loss: 0.9711 | Acc: 0.9742 | F1: 0.9741\n",
            "  Val   Loss: 1.1086 | Acc: 0.8297 | F1: 0.8313\n",
            "Epoch 14/25\n",
            "  Train Loss: 0.9589 | Acc: 0.9796 | F1: 0.9796\n",
            "  Val   Loss: 1.0981 | Acc: 0.8259 | F1: 0.8278\n"
          ]
        }
      ]
    },
    {
      "cell_type": "code",
      "execution_count": null,
      "metadata": {
        "id": "kPt1IW6y0vKv"
      },
      "outputs": [],
      "source": []
    }
  ],
  "metadata": {
    "accelerator": "GPU",
    "colab": {
      "gpuType": "T4",
      "provenance": []
    },
    "kernelspec": {
      "display_name": "Python 3",
      "name": "python3"
    },
    "language_info": {
      "name": "python"
    }
  },
  "nbformat": 4,
  "nbformat_minor": 0
}